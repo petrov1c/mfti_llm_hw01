{
 "cells": [
  {
   "cell_type": "markdown",
   "metadata": {
    "id": "bfe3bb50"
   },
   "source": [
    "# Лабораторная работа по дообучению моделей\n"
   ]
  },
  {
   "cell_type": "markdown",
   "metadata": {
    "id": "baf1779c",
    "jp-MarkdownHeadingCollapsed": true
   },
   "source": [
    "## Цель и задачи работы\n",
    "**Цель:**\n",
    "Выявить наиболее эффективный подход к дообучению модели на нескольких наборах данных при равных вычислительных ресурсах.\n",
    "\n",
    "**Основные задачи:**\n",
    "1. Провести эксперименты с различными подходами к дообучению, включая:\n",
    "   - Полное дообучение модели.\n",
    "   - Заморозку части слоев и дообучение остальных.\n",
    "   - Использование смешанной точности вычислений (fp16).\n",
    "2. Измерить эффективность каждого подхода на основе метрик качества и времени обучения.\n",
    "3. Сравнить соотношение метрики качества и скорости для каждого подхода.\n",
    "\n",
    "**Метрики качества:**\n",
    "- **Accuracy** (Точность классификации): насколько правильно модель классифицирует данные.\n",
    "- **F1-score**: гармоническое среднее между полнотой (recall) и точностью (precision).\n",
    "\n",
    "**Метрики времени:**\n",
    "- Общее время обучения.\n",
    "- Скорость достижения минимального лосса (число эпох или секунд).\n",
    "\n",
    "**Формат отображения:**\n",
    "Результаты будут представлены в таблицах и графиках:\n",
    "- Таблицы с метриками качества и временем обучения для каждого подхода.\n",
    "- Графики, показывающие изменение лосса и метрик качества на каждой эпохе.\n",
    "- Отдельный график эффективности (соотношение качества и скорости).\n",
    "\n",
    "**Ожидаемые результаты:**\n",
    "- Понимание, какой подход обеспечивает лучший баланс между качеством и скоростью.\n",
    "- Рекомендации для выбора стратегии дообучения в зависимости от доступных ресурсов."
   ]
  },
  {
   "cell_type": "markdown",
   "metadata": {
    "id": "3ec43b99"
   },
   "source": [
    "## Экспериментальная часть: Дизайн и настройка экспериментов\n",
    "**Параметры эксперимента:**\n",
    "1. **Подходы к дообучению:**\n",
    "  Подходы к дообучению:\n",
    "  - дообучение с разными числом замороженных слоев (80/50/20/0)\n",
    "  - дообучение с использованием адаптера LoRA, prompt и prefix-tuning\n",
    "\n",
    "  В рамках каждого подхода предлагается проверить влияние типа данных (fp32 vs fp16 vs int8)\n",
    "\n",
    "2. **Данные для обучения:**\n",
    "   - Наборы данных с разными характеристиками (размер, сложность).\n",
    "   - Пример: GLUE Benchmark для классификации текста.\n",
    "3. **Метрики:**\n",
    "   - Accuracy и F1-score для оценки качества модели.\n",
    "   - Время обучения (в секундах или эпохах).\n",
    "\n",
    "**Почему выбраны эти параметры:**\n",
    "- Полное дообучение позволяет оценить максимум возможностей модели.\n",
    "- Заморозка слоев снижает затраты на обучение и помогает понять вклад разных слоев.\n",
    "- Использование fp16 ускоряет обучение и снижает нагрузку на GPU.\n",
    "\n",
    "**Как измерять метрики:**\n",
    "1. Метрики качества измеряются на тестовом наборе данных.\n",
    "2. Время фиксируется для каждой эпохи и всего обучения.\n",
    "3. Соотношение \"качество/скорость\" рассчитывается как отношение метрики (например, F1-score) к времени.\n",
    "\n",
    "**Ожидаемые результаты:**\n",
    "- Таблицы с результатами для каждого подхода.\n",
    "- Графики изменения метрик и времени.\n",
    "- Выводы о том, какой подход наиболее эффективен."
   ]
  },
  {
   "cell_type": "markdown",
   "metadata": {
    "id": "076f0310"
   },
   "source": [
    "## Уточняющее описание: Экспериментальные параметры и ожидания\n",
    "**Важно:**\n",
    "- Для каждого набора параметров сохраните метрики (Accuracy, F1-score) и общее время обучения.\n",
    "- Постройте графики изменения лосса и времени за каждую эпоху.\n",
    "\n",
    "**Пример конфигурации DeepSpeed:**\n",
    "```json\n",
    "{\n",
    "    \"train_batch_size\": 32,\n",
    "    \"gradient_accumulation_steps\": 1,\n",
    "    \"fp16\": {\n",
    "        \"enabled\": true\n",
    "    },\n",
    "    \"zero_optimization\": {\n",
    "        \"stage\": 2,\n",
    "        \"offload_optimizer\": {\n",
    "            \"device\": \"cpu\"\n",
    "        }\n",
    "    },\n",
    "    \"steps_per_print\": 200\n",
    "}\n",
    "```\n"
   ]
  },
  {
   "cell_type": "markdown",
   "metadata": {
    "id": "e72c2dda"
   },
   "source": [
    "## Запуск вне ноутбука\n",
    "**Условие:**\n",
    "Для обеспечения гибкости и автоматизации, обучение моделей должно выполняться вне ноутбука с использованием скриптов. В ноутбуке необходимо:\n",
    "1. Показать эти скрипты (например, `train.py`, `config.json`).\n",
    "2. Отобразить результаты выполнения:\n",
    "   - Графики лосса за эпохи.\n",
    "   - Метрики качества (Accuracy, F1-score).\n",
    "   - Общее время обучения.\n",
    "\n",
    "**Что сделать:**\n",
    "1. Написать обучающий скрипт (`train.py`) для запуска модели с различными параметрами.\n",
    "2. Использовать JSON-файл для конфигурации параметров обучения (пример ниже).\n",
    "3. Результаты сохранить в удобном формате (например, `.csv` или `.json`) для визуализации в ноутбуке.\n",
    "4. Построить графики и сделать выводы в ноутбуке на основе сохраненных данных.\n",
    "\n",
    "**Пример запуска:**\n",
    "```bash\n",
    "python train.py --config config.json\n",
    "```\n",
    "После выполнения скрипта данные и графики добавляются в ноутбук."
   ]
  },
  {
   "cell_type": "markdown",
   "metadata": {
    "id": "707f61a2"
   },
   "source": [
    "## Этап 1: Предварительная настройка (10%)\n",
    "На данном этапе мы:\n",
    "- Настраиваем окружение.\n",
    "- Загружаем необходимые библиотеки и файлы.\n",
    "\n",
    "### Ожидаемый результат:\n",
    "Корректно настроенное окружение для выполнения экспериментов."
   ]
  },
  {
   "cell_type": "code",
   "execution_count": 1,
   "metadata": {
    "id": "mn3w1eYDD2Fx"
   },
   "outputs": [],
   "source": [
    "# !pip install transformers adapter-transformers datasets torch\n",
    "# !pip install torch deepspeed\n",
    "# !pip install torch==2.0.1"
   ]
  },
  {
   "cell_type": "code",
   "execution_count": 2,
   "metadata": {
    "id": "-DJk7iTcEVPx"
   },
   "outputs": [
    {
     "name": "stderr",
     "output_type": "stream",
     "text": [
      "/home/toor/miniconda3/lib/python3.11/site-packages/pydantic/_internal/_fields.py:132: UserWarning: Field \"model_kwargs\" in Config has conflict with protected namespace \"model_\".\n",
      "\n",
      "You may be able to resolve this warning by setting `model_config['protected_namespaces'] = ()`.\n",
      "  warnings.warn(\n"
     ]
    }
   ],
   "source": [
    "# Возможные импорты\n",
    "import os\n",
    "import torch\n",
    "from transformers import AutoTokenizer, AutoModelForCausalLM, AutoModelForSequenceClassification, pipeline, TrainingArguments, Trainer\n",
    "from datasets import load_dataset\n",
    "from clearml import Task\n",
    "\n",
    "from src.model import load_model_and_tokenizer_from_config\n",
    "from src.datamodule import glue_dataset\n",
    "from src.config import Config\n",
    "from src.metrics import compute_metrics\n",
    "from src.utils import load_object\n",
    "\n",
    "from peft import LoraConfig, get_peft_model\n",
    "from dotenv import load_dotenv\n",
    "\n",
    "import warnings\n",
    "warnings.filterwarnings(\"ignore\")"
   ]
  },
  {
   "cell_type": "code",
   "execution_count": 3,
   "metadata": {},
   "outputs": [],
   "source": [
    "load_dotenv()\n",
    "HF_TOKEN = os.environ['HUGGINGFACEHUB_API_TOKEN']\n",
    "\n",
    "os.environ[\"TOKENIZERS_PARALLELISM\"] = \"true\"\n",
    "os.environ[\"WANDB_DISABLED\"] = \"true\""
   ]
  },
  {
   "cell_type": "markdown",
   "metadata": {
    "id": "maqJKCOyITiQ"
   },
   "source": [
    "Для начала заполните параметры конфигураций\n"
   ]
  },
  {
   "cell_type": "code",
   "execution_count": 4,
   "metadata": {
    "id": "rOuXI1MiAPI-"
   },
   "outputs": [],
   "source": [
    "MODEL_NAME = \"meta-llama/Meta-Llama-3.1-8B-Instruct\"\n",
    "\n",
    "# Напишите инициализацию модели и токенайзера\n",
    "def load_model_and_tokenizer(model_name):\n",
    "    model = AutoModelForCausalLM.from_pretrained(\n",
    "        model_name,\n",
    "        torch_dtype=torch.bfloat16,\n",
    "        token=HF_TOKEN,\n",
    "        device_map='cuda'\n",
    "    )\n",
    "\n",
    "    tokenizer = AutoTokenizer.from_pretrained(\n",
    "        model_name,\n",
    "        token=HF_TOKEN\n",
    "    )\n",
    "    return tokenizer, model"
   ]
  },
  {
   "cell_type": "markdown",
   "metadata": {
    "id": "tdalZeVGIl6w"
   },
   "source": [
    "Напишите функцию для Zero-Shot классификации с использованием подбора промптов"
   ]
  },
  {
   "cell_type": "code",
   "execution_count": 5,
   "metadata": {
    "id": "rTTPzYktDhGK"
   },
   "outputs": [
    {
     "data": {
      "application/vnd.jupyter.widget-view+json": {
       "model_id": "8c2275264a724092956abc3ae2650d8f",
       "version_major": 2,
       "version_minor": 0
      },
      "text/plain": [
       "Loading checkpoint shards:   0%|          | 0/4 [00:00<?, ?it/s]"
      ]
     },
     "metadata": {},
     "output_type": "display_data"
    },
    {
     "name": "stderr",
     "output_type": "stream",
     "text": [
      "Setting `pad_token_id` to `eos_token_id`:None for open-end generation.\n",
      "Starting from v4.46, the `logits` model output will have the same type as the model (except at train time, where it will always be FP32)\n",
      "Setting `pad_token_id` to `eos_token_id`:None for open-end generation.\n"
     ]
    },
    {
     "name": "stdout",
     "output_type": "stream",
     "text": [
      "Zero-shot классификация: animals\n",
      "Zero-shot классификация для второго примера: quantum computing\n"
     ]
    }
   ],
   "source": [
    "def zero_shot_classification(prompt, candidate_labels, model=None, tokenizer=None): \n",
    "    classes = ', '.join(candidate_labels)\n",
    "    system_prompt = f'Read the sentence and assign it to one of these classes.: {classes}. \\\n",
    "                      In the response, specify only the name of the class.'\n",
    "    \n",
    "    messages = [\n",
    "        {\"role\": \"system\", \"content\": system_prompt},\n",
    "        {\"role\": \"user\", \"content\": prompt},\n",
    "    ]\n",
    "\n",
    "    prompt = tokenizer.apply_chat_template(messages, tokenize=False)\n",
    "    \n",
    "    # Создаем pipeline для zero-shot классификации\n",
    "    zero_shot_classifier = pipeline('text-generation', model=model, tokenizer=tokenizer)\n",
    "\n",
    "    # Запуск классификации с поданным промптом\n",
    "    result = zero_shot_classifier(prompt, max_new_tokens=50, return_full_text=False)\n",
    "\n",
    "    return result[0]['generated_text'].split('\\n')[-1]\n",
    "\n",
    "tokenizer, model = load_model_and_tokenizer(MODEL_NAME)\n",
    "\n",
    "# Подбор промптов: в зависимости от задачи можно использовать различные формулировки\n",
    "# Пример задачи: классификация по теме текста\n",
    "prompt = \"The quick brown fox jumped over the lazy dog.\"\n",
    "# Пример классов для классификации\n",
    "candidate_labels = [\"animals\", \"sports\", \"technology\", \"politics\"]\n",
    "\n",
    "# Запуск zero-shot классификации\n",
    "result = zero_shot_classification(prompt, candidate_labels, model, tokenizer)\n",
    "print(f\"Zero-shot классификация: {result}\")\n",
    "\n",
    "# Пример для другого текста и других меток\n",
    "prompt = \"The latest breakthrough in quantum computing promises faster processing speeds.\"\n",
    "candidate_labels = [\"quantum computing\", \"politics\", \"technology\", \"finance\"]\n",
    "result = zero_shot_classification(prompt, candidate_labels, model, tokenizer)\n",
    "print(f\"Zero-shot классификация для второго примера: {result}\")"
   ]
  },
  {
   "cell_type": "code",
   "execution_count": 6,
   "metadata": {},
   "outputs": [],
   "source": [
    "# Очистка памяти\n",
    "model = None\n",
    "tokenizer = None\n",
    "result = None\n",
    "torch.cuda.empty_cache()"
   ]
  },
  {
   "cell_type": "markdown",
   "metadata": {
    "id": "48d626b9"
   },
   "source": [
    "## Этап 2: Экспериментальная часть (20%)\n",
    "В этом этапе мы:\n",
    "- дообучение с разными числом замороженных слоев (80/50/20/0)\n",
    "- дообучение с использованием адаптера LoRA, prompt и prefix-tuning\n",
    "\n",
    "В рамках каждого подхода предлагается проверить влияние типа данных (fp32 vs fp16 vs int8)\n",
    "\n",
    "### Что необходимо:\n",
    "1. Настроить параметры в конфигурации DeepSpeed (например, batch size, fp16).\n",
    "2. Убедиться, что модель обучается корректно.\n",
    "\n",
    "### Ожидаемый результат:\n",
    "Для каждого подхода должны быть получены:\n",
    "- Метрики качества.\n",
    "- Время обучения.\n",
    "\n",
    "### Пример кода:\n",
    "Используйте минимальный код, ориентируясь на документацию Transformers.\n"
   ]
  },
  {
   "cell_type": "markdown",
   "metadata": {
    "id": "050d9470"
   },
   "source": [
    "## Частичное дообучение с заморозкой слоев\n",
    "**Идея эксперимента:**\n",
    "- Замораживание части слоев модели позволяет снизить вычислительную сложность и ускорить обучение.\n",
    "- Мы обучаем только 1-2 слоя, чтобы минимизировать время и ресурсы.\n",
    "\n",
    "\n",
    "**Что делать:**\n",
    "1. Использовать `transformers` для настройки модели с замороженными слоями.\n",
    "2. Изменять конфигурацию заморозки слоев через обучающий скрипт.\n",
    "3. Собрать метрики и время обучения для каждого варианта.\n",
    "\n",
    "**Пример кода для заморозки слоев:**\n",
    "```python\n",
    "from transformers import AutoModel\n",
    "\n",
    "model = AutoModel.from_pretrained('bert-base-uncased')\n",
    "\n",
    "# Замораживаем 80% слоев\n",
    "for param in model.encoder.layer[:int(0.8 * len(model.encoder.layer))].parameters():\n",
    "    param.requires_grad = False\n",
    "\n",
    "# Только последние 20% слоев обучаются\n",
    "optimizer = torch.optim.Adam(filter(lambda p: p.requires_grad, model.parameters()), lr=1e-5)\n",
    "```"
   ]
  },
  {
   "cell_type": "code",
   "execution_count": 7,
   "metadata": {},
   "outputs": [
    {
     "name": "stdout",
     "output_type": "stream",
     "text": [
      "PYTHONPATH=. python src/train_freeze.py config/config_freeze.yml\n",
      "/home/toor/miniconda3/lib/python3.11/site-packages/pydantic/_internal/_fields.py:132: UserWarning: Field \"model_kwargs\" in Config has conflict with protected namespace \"model_\".\n",
      "\n",
      "You may be able to resolve this warning by setting `model_config['protected_namespaces'] = ()`.\n",
      "  warnings.warn(\n",
      "ClearML Task: created new task id=1a0c1469199e497c8ccee0480e8bbba8\n",
      "ClearML results page: https://app.clear.ml/projects/73cf34dc1ccc4ddbb5a06ecf6486c3d8/experiments/1a0c1469199e497c8ccee0480e8bbba8/output/log\n",
      "Some weights of BertForSequenceClassification were not initialized from the model checkpoint at bert-base-uncased and are newly initialized: ['classifier.bias', 'classifier.weight']\n",
      "You should probably TRAIN this model on a down-stream task to be able to use it for predictions and inference.\n",
      "[2025-01-10 02:38:47,349] [INFO] [real_accelerator.py:222:get_accelerator] Setting ds_accelerator to cuda (auto detect)\n",
      "2025-01-10 02:38:48,017 - clearml.Task - WARNING - Parameters must be of builtin type (Transformers/accelerator_config[AcceleratorConfig])\n",
      "{'eval_loss': 0.5989737510681152, 'eval_accuracy': 0.6912751677852349, 'eval_runtime': 0.3695, 'eval_samples_per_second': 2822.907, 'eval_steps_per_second': 13.533, 'epoch': 0.9411764705882353}\n",
      "{'eval_loss': 0.567531943321228, 'eval_accuracy': 0.6999041227229147, 'eval_runtime': 0.3866, 'eval_samples_per_second': 2698.22, 'eval_steps_per_second': 12.935, 'epoch': 2.0}\n",
      "{'eval_loss': 0.539171576499939, 'eval_accuracy': 0.7535953978907, 'eval_runtime': 0.3883, 'eval_samples_per_second': 2686.083, 'eval_steps_per_second': 12.877, 'epoch': 2.9411764705882355}\n",
      "{'eval_loss': 0.5312823057174683, 'eval_accuracy': 0.7535953978907, 'eval_runtime': 0.3866, 'eval_samples_per_second': 2697.997, 'eval_steps_per_second': 12.934, 'epoch': 4.0}\n",
      "{'eval_loss': 0.49292951822280884, 'eval_accuracy': 0.7698945349952061, 'eval_runtime': 0.3924, 'eval_samples_per_second': 2657.805, 'eval_steps_per_second': 12.741, 'epoch': 4.9411764705882355}\n",
      "{'eval_loss': 0.5129490494728088, 'eval_accuracy': 0.7641418983700863, 'eval_runtime': 0.3843, 'eval_samples_per_second': 2713.82, 'eval_steps_per_second': 13.01, 'epoch': 6.0}\n",
      "{'eval_loss': 0.5010478496551514, 'eval_accuracy': 0.7660594439117929, 'eval_runtime': 0.3886, 'eval_samples_per_second': 2684.252, 'eval_steps_per_second': 12.868, 'epoch': 6.9411764705882355}\n",
      "{'eval_loss': 0.5019729733467102, 'eval_accuracy': 0.7660594439117929, 'eval_runtime': 0.4036, 'eval_samples_per_second': 2584.047, 'eval_steps_per_second': 12.388, 'epoch': 7.529411764705882}\n",
      "{'train_runtime': 43.8362, 'train_samples_per_second': 1560.537, 'train_steps_per_second': 1.46, 'train_loss': 0.5221747756004333, 'epoch': 7.529411764705882}\n",
      "Some weights of BertForSequenceClassification were not initialized from the model checkpoint at bert-base-uncased and are newly initialized: ['classifier.bias', 'classifier.weight']\n",
      "You should probably TRAIN this model on a down-stream task to be able to use it for predictions and inference.\n",
      "2025-01-10 02:39:32,545 - clearml.Task - WARNING - Parameters must be of builtin type (Transformers_2/accelerator_config[AcceleratorConfig])\n",
      "{'eval_loss': 0.6029070019721985, 'eval_accuracy': 0.6922339405560882, 'eval_runtime': 0.2133, 'eval_samples_per_second': 4889.138, 'eval_steps_per_second': 23.438, 'epoch': 0.9411764705882353}\n",
      "{'eval_loss': 0.5725465416908264, 'eval_accuracy': 0.6941514860977949, 'eval_runtime': 0.2119, 'eval_samples_per_second': 4922.471, 'eval_steps_per_second': 23.598, 'epoch': 2.0}\n",
      "{'eval_loss': 0.5626029968261719, 'eval_accuracy': 0.7123681687440077, 'eval_runtime': 0.2049, 'eval_samples_per_second': 5090.198, 'eval_steps_per_second': 24.402, 'epoch': 2.9411764705882355}\n",
      "{'eval_loss': 0.5437833070755005, 'eval_accuracy': 0.7305848513902206, 'eval_runtime': 0.2089, 'eval_samples_per_second': 4993.493, 'eval_steps_per_second': 23.938, 'epoch': 4.0}\n",
      "{'eval_loss': 0.5441559553146362, 'eval_accuracy': 0.7353787152444871, 'eval_runtime': 0.2064, 'eval_samples_per_second': 5052.55, 'eval_steps_per_second': 24.221, 'epoch': 4.9411764705882355}\n",
      "{'eval_loss': 0.5426822304725647, 'eval_accuracy': 0.7372962607861937, 'eval_runtime': 0.2102, 'eval_samples_per_second': 4962.902, 'eval_steps_per_second': 23.791, 'epoch': 6.0}\n",
      "{'eval_loss': 0.541279673576355, 'eval_accuracy': 0.7392138063279002, 'eval_runtime': 0.2099, 'eval_samples_per_second': 4968.77, 'eval_steps_per_second': 23.82, 'epoch': 6.9411764705882355}\n",
      "{'eval_loss': 0.541279673576355, 'eval_accuracy': 0.7392138063279002, 'eval_runtime': 0.2187, 'eval_samples_per_second': 4768.171, 'eval_steps_per_second': 22.858, 'epoch': 7.529411764705882}\n",
      "{'train_runtime': 22.9245, 'train_samples_per_second': 2984.051, 'train_steps_per_second': 2.792, 'train_loss': 0.5540084838867188, 'epoch': 7.529411764705882}\n",
      "Some weights of BertForSequenceClassification were not initialized from the model checkpoint at bert-base-uncased and are newly initialized: ['classifier.bias', 'classifier.weight']\n",
      "You should probably TRAIN this model on a down-stream task to be able to use it for predictions and inference.\n",
      "2025-01-10 02:39:56,059 - clearml.Task - WARNING - Parameters must be of builtin type (Transformers_3/accelerator_config[AcceleratorConfig])\n",
      "{'eval_loss': 0.5307883024215698, 'eval_accuracy': 0.7248322147651006, 'eval_runtime': 0.4142, 'eval_samples_per_second': 2517.863, 'eval_steps_per_second': 12.07, 'epoch': 0.9411764705882353}\n",
      "{'eval_loss': 0.519661009311676, 'eval_accuracy': 0.7804410354745925, 'eval_runtime': 0.4074, 'eval_samples_per_second': 2560.245, 'eval_steps_per_second': 12.273, 'epoch': 2.0}\n",
      "{'eval_loss': 0.5342750549316406, 'eval_accuracy': 0.7727708533077661, 'eval_runtime': 0.4113, 'eval_samples_per_second': 2535.765, 'eval_steps_per_second': 12.156, 'epoch': 2.9411764705882355}\n",
      "{'eval_loss': 0.5459299087524414, 'eval_accuracy': 0.7737296260786194, 'eval_runtime': 0.4225, 'eval_samples_per_second': 2468.422, 'eval_steps_per_second': 11.833, 'epoch': 4.0}\n",
      "{'eval_loss': 0.4865609109401703, 'eval_accuracy': 0.7938638542665388, 'eval_runtime': 0.4152, 'eval_samples_per_second': 2512.019, 'eval_steps_per_second': 12.042, 'epoch': 4.9411764705882355}\n",
      "{'eval_loss': 0.46771326661109924, 'eval_accuracy': 0.800575263662512, 'eval_runtime': 0.4177, 'eval_samples_per_second': 2497.294, 'eval_steps_per_second': 11.972, 'epoch': 6.0}\n",
      "{'eval_loss': 0.5067291855812073, 'eval_accuracy': 0.7909875359539789, 'eval_runtime': 0.41, 'eval_samples_per_second': 2543.924, 'eval_steps_per_second': 12.195, 'epoch': 6.9411764705882355}\n",
      "{'eval_loss': 0.5138704180717468, 'eval_accuracy': 0.7909875359539789, 'eval_runtime': 0.413, 'eval_samples_per_second': 2525.143, 'eval_steps_per_second': 12.105, 'epoch': 7.529411764705882}\n",
      "{'train_runtime': 63.6168, 'train_samples_per_second': 1075.313, 'train_steps_per_second': 1.006, 'train_loss': 0.43155986070632935, 'epoch': 7.529411764705882}\n",
      "Some weights of BertForSequenceClassification were not initialized from the model checkpoint at bert-base-uncased and are newly initialized: ['classifier.bias', 'classifier.weight']\n",
      "You should probably TRAIN this model on a down-stream task to be able to use it for predictions and inference.\n",
      "2025-01-10 02:41:00,365 - clearml.Task - WARNING - Parameters must be of builtin type (Transformers_4/accelerator_config[AcceleratorConfig])\n",
      "{'eval_loss': 0.5850105881690979, 'eval_accuracy': 0.6922339405560882, 'eval_runtime': 0.2121, 'eval_samples_per_second': 4917.696, 'eval_steps_per_second': 23.575, 'epoch': 0.9411764705882353}\n",
      "{'eval_loss': 0.5435867309570312, 'eval_accuracy': 0.7190795781399808, 'eval_runtime': 0.2208, 'eval_samples_per_second': 4724.754, 'eval_steps_per_second': 22.65, 'epoch': 2.0}\n",
      "{'eval_loss': 0.5073312520980835, 'eval_accuracy': 0.7727708533077661, 'eval_runtime': 0.2096, 'eval_samples_per_second': 4975.704, 'eval_steps_per_second': 23.853, 'epoch': 2.9411764705882355}\n",
      "{'eval_loss': 0.509106457233429, 'eval_accuracy': 0.7698945349952061, 'eval_runtime': 0.2477, 'eval_samples_per_second': 4211.019, 'eval_steps_per_second': 20.187, 'epoch': 4.0}\n",
      "{'eval_loss': 0.501915693283081, 'eval_accuracy': 0.7718120805369127, 'eval_runtime': 0.2118, 'eval_samples_per_second': 4925.065, 'eval_steps_per_second': 23.61, 'epoch': 4.9411764705882355}\n",
      "{'eval_loss': 0.5067095160484314, 'eval_accuracy': 0.7689357622243528, 'eval_runtime': 0.213, 'eval_samples_per_second': 4897.518, 'eval_steps_per_second': 23.478, 'epoch': 6.0}\n",
      "{'eval_loss': 0.5066739320755005, 'eval_accuracy': 0.7718120805369127, 'eval_runtime': 0.2125, 'eval_samples_per_second': 4907.286, 'eval_steps_per_second': 23.525, 'epoch': 6.9411764705882355}\n",
      "{'eval_loss': 0.5067095160484314, 'eval_accuracy': 0.7727708533077661, 'eval_runtime': 0.2125, 'eval_samples_per_second': 4907.473, 'eval_steps_per_second': 23.526, 'epoch': 7.529411764705882}\n",
      "{'train_runtime': 27.4186, 'train_samples_per_second': 2494.946, 'train_steps_per_second': 2.334, 'train_loss': 0.5108184814453125, 'epoch': 7.529411764705882}\n",
      "Some weights of BertForSequenceClassification were not initialized from the model checkpoint at bert-base-uncased and are newly initialized: ['classifier.bias', 'classifier.weight']\n",
      "You should probably TRAIN this model on a down-stream task to be able to use it for predictions and inference.\n",
      "2025-01-10 02:41:28,638 - clearml.Task - WARNING - Parameters must be of builtin type (Transformers_5/accelerator_config[AcceleratorConfig])\n",
      "{'eval_loss': 0.5267238616943359, 'eval_accuracy': 0.7219558964525408, 'eval_runtime': 0.4196, 'eval_samples_per_second': 2485.626, 'eval_steps_per_second': 11.916, 'epoch': 0.9411764705882353}\n",
      "{'eval_loss': 0.48743075132369995, 'eval_accuracy': 0.7938638542665388, 'eval_runtime': 0.4131, 'eval_samples_per_second': 2524.651, 'eval_steps_per_second': 12.103, 'epoch': 2.0}\n",
      "{'eval_loss': 0.4636216461658478, 'eval_accuracy': 0.8111217641418984, 'eval_runtime': 0.4201, 'eval_samples_per_second': 2482.548, 'eval_steps_per_second': 11.901, 'epoch': 2.9411764705882355}\n",
      "{'eval_loss': 0.4913899600505829, 'eval_accuracy': 0.8111217641418984, 'eval_runtime': 0.4118, 'eval_samples_per_second': 2532.817, 'eval_steps_per_second': 12.142, 'epoch': 4.0}\n",
      "{'eval_loss': 0.5094941854476929, 'eval_accuracy': 0.8149568552253116, 'eval_runtime': 0.413, 'eval_samples_per_second': 2525.118, 'eval_steps_per_second': 12.105, 'epoch': 4.9411764705882355}\n",
      "{'eval_loss': 0.5110324025154114, 'eval_accuracy': 0.8111217641418984, 'eval_runtime': 0.4134, 'eval_samples_per_second': 2522.855, 'eval_steps_per_second': 12.094, 'epoch': 6.0}\n",
      "{'eval_loss': 0.5153643488883972, 'eval_accuracy': 0.8168744007670182, 'eval_runtime': 0.419, 'eval_samples_per_second': 2489.374, 'eval_steps_per_second': 11.934, 'epoch': 6.9411764705882355}\n",
      "{'eval_loss': 0.520516037940979, 'eval_accuracy': 0.8139980824544583, 'eval_runtime': 0.4701, 'eval_samples_per_second': 2218.659, 'eval_steps_per_second': 10.636, 'epoch': 7.529411764705882}\n",
      "{'train_runtime': 74.6417, 'train_samples_per_second': 916.485, 'train_steps_per_second': 0.857, 'train_loss': 0.34286338090896606, 'epoch': 7.529411764705882}\n",
      "Some weights of BertForSequenceClassification were not initialized from the model checkpoint at bert-base-uncased and are newly initialized: ['classifier.bias', 'classifier.weight']\n",
      "You should probably TRAIN this model on a down-stream task to be able to use it for predictions and inference.\n",
      "2025-01-10 02:42:44,121 - clearml.Task - WARNING - Parameters must be of builtin type (Transformers_6/accelerator_config[AcceleratorConfig])\n",
      "{'eval_loss': 0.5765950679779053, 'eval_accuracy': 0.6922339405560882, 'eval_runtime': 0.2153, 'eval_samples_per_second': 4844.6, 'eval_steps_per_second': 23.224, 'epoch': 0.9411764705882353}\n",
      "{'eval_loss': 0.5167410969734192, 'eval_accuracy': 0.7574304889741131, 'eval_runtime': 0.217, 'eval_samples_per_second': 4805.96, 'eval_steps_per_second': 23.039, 'epoch': 2.0}\n",
      "{'eval_loss': 0.5249430537223816, 'eval_accuracy': 0.7689357622243528, 'eval_runtime': 0.2136, 'eval_samples_per_second': 4882.748, 'eval_steps_per_second': 23.407, 'epoch': 2.9411764705882355}\n",
      "{'eval_loss': 0.4956836402416229, 'eval_accuracy': 0.7833173537871524, 'eval_runtime': 0.2156, 'eval_samples_per_second': 4838.433, 'eval_steps_per_second': 23.195, 'epoch': 4.0}\n",
      "{'eval_loss': 0.5004063844680786, 'eval_accuracy': 0.7804410354745925, 'eval_runtime': 0.215, 'eval_samples_per_second': 4850.815, 'eval_steps_per_second': 23.254, 'epoch': 4.9411764705882355}\n",
      "{'eval_loss': 0.49903935194015503, 'eval_accuracy': 0.7794822627037392, 'eval_runtime': 0.2162, 'eval_samples_per_second': 4824.016, 'eval_steps_per_second': 23.126, 'epoch': 6.0}\n",
      "{'eval_loss': 0.49719297885894775, 'eval_accuracy': 0.7794822627037392, 'eval_runtime': 0.2268, 'eval_samples_per_second': 4598.563, 'eval_steps_per_second': 22.045, 'epoch': 6.9411764705882355}\n",
      "{'eval_loss': 0.49719297885894775, 'eval_accuracy': 0.7794822627037392, 'eval_runtime': 0.2461, 'eval_samples_per_second': 4238.522, 'eval_steps_per_second': 20.319, 'epoch': 7.529411764705882}\n",
      "{'train_runtime': 33.8709, 'train_samples_per_second': 2019.669, 'train_steps_per_second': 1.89, 'train_loss': 0.48436737060546875, 'epoch': 7.529411764705882}\n",
      "Some weights of BertForSequenceClassification were not initialized from the model checkpoint at bert-base-uncased and are newly initialized: ['classifier.bias', 'classifier.weight']\n",
      "You should probably TRAIN this model on a down-stream task to be able to use it for predictions and inference.\n",
      "2025-01-10 02:43:18,672 - clearml.Task - WARNING - Parameters must be of builtin type (Transformers_7/accelerator_config[AcceleratorConfig])\n",
      "{'eval_loss': 0.523137629032135, 'eval_accuracy': 0.7248322147651006, 'eval_runtime': 0.4262, 'eval_samples_per_second': 2447.336, 'eval_steps_per_second': 11.732, 'epoch': 0.9411764705882353}\n",
      "{'eval_loss': 0.49227064847946167, 'eval_accuracy': 0.7919463087248322, 'eval_runtime': 0.4273, 'eval_samples_per_second': 2440.831, 'eval_steps_per_second': 11.701, 'epoch': 2.0}\n",
      "{'eval_loss': 0.46517783403396606, 'eval_accuracy': 0.8139980824544583, 'eval_runtime': 0.4197, 'eval_samples_per_second': 2484.837, 'eval_steps_per_second': 11.912, 'epoch': 2.9411764705882355}\n",
      "{'eval_loss': 0.4859272241592407, 'eval_accuracy': 0.8130393096836049, 'eval_runtime': 0.4239, 'eval_samples_per_second': 2460.304, 'eval_steps_per_second': 11.794, 'epoch': 4.0}\n",
      "{'eval_loss': 0.506779670715332, 'eval_accuracy': 0.8082454458293384, 'eval_runtime': 0.4191, 'eval_samples_per_second': 2488.888, 'eval_steps_per_second': 11.931, 'epoch': 4.9411764705882355}\n",
      "{'eval_loss': 0.5234712362289429, 'eval_accuracy': 0.8149568552253116, 'eval_runtime': 0.4303, 'eval_samples_per_second': 2423.783, 'eval_steps_per_second': 11.619, 'epoch': 6.0}\n",
      "{'eval_loss': 0.5407905578613281, 'eval_accuracy': 0.8082454458293384, 'eval_runtime': 0.4292, 'eval_samples_per_second': 2429.926, 'eval_steps_per_second': 11.649, 'epoch': 6.9411764705882355}\n",
      "{'eval_loss': 0.5407039523124695, 'eval_accuracy': 0.8082454458293384, 'eval_runtime': 0.4182, 'eval_samples_per_second': 2494.002, 'eval_steps_per_second': 11.956, 'epoch': 7.529411764705882}\n",
      "{'train_runtime': 85.6659, 'train_samples_per_second': 798.544, 'train_steps_per_second': 0.747, 'train_loss': 0.32374462485313416, 'epoch': 7.529411764705882}\n",
      "Some weights of BertForSequenceClassification were not initialized from the model checkpoint at bert-base-uncased and are newly initialized: ['classifier.bias', 'classifier.weight']\n",
      "You should probably TRAIN this model on a down-stream task to be able to use it for predictions and inference.\n",
      "2025-01-10 02:44:45,187 - clearml.Task - WARNING - Parameters must be of builtin type (Transformers_8/accelerator_config[AcceleratorConfig])\n",
      "{'eval_loss': 0.571872353553772, 'eval_accuracy': 0.6922339405560882, 'eval_runtime': 0.2194, 'eval_samples_per_second': 4754.78, 'eval_steps_per_second': 22.794, 'epoch': 0.9411764705882353}\n",
      "{'eval_loss': 0.5134565234184265, 'eval_accuracy': 0.7641418983700863, 'eval_runtime': 0.2175, 'eval_samples_per_second': 4796.171, 'eval_steps_per_second': 22.992, 'epoch': 2.0}\n",
      "{'eval_loss': 0.5278025269508362, 'eval_accuracy': 0.7737296260786194, 'eval_runtime': 0.2243, 'eval_samples_per_second': 4650.143, 'eval_steps_per_second': 22.292, 'epoch': 2.9411764705882355}\n",
      "{'eval_loss': 0.492914080619812, 'eval_accuracy': 0.788111217641419, 'eval_runtime': 0.2288, 'eval_samples_per_second': 4559.382, 'eval_steps_per_second': 21.857, 'epoch': 4.0}\n",
      "{'eval_loss': 0.49907493591308594, 'eval_accuracy': 0.7823585810162992, 'eval_runtime': 0.2261, 'eval_samples_per_second': 4613.193, 'eval_steps_per_second': 22.115, 'epoch': 4.9411764705882355}\n",
      "{'eval_loss': 0.4934646189212799, 'eval_accuracy': 0.7861936720997124, 'eval_runtime': 0.2295, 'eval_samples_per_second': 4543.788, 'eval_steps_per_second': 21.782, 'epoch': 6.0}\n",
      "{'eval_loss': 0.49298521876335144, 'eval_accuracy': 0.7871524448705657, 'eval_runtime': 0.2222, 'eval_samples_per_second': 4694.46, 'eval_steps_per_second': 22.505, 'epoch': 6.9411764705882355}\n",
      "{'eval_loss': 0.49250584840774536, 'eval_accuracy': 0.7861936720997124, 'eval_runtime': 0.2144, 'eval_samples_per_second': 4864.678, 'eval_steps_per_second': 23.321, 'epoch': 7.529411764705882}\n",
      "{'train_runtime': 44.9891, 'train_samples_per_second': 1520.546, 'train_steps_per_second': 1.423, 'train_loss': 0.47510528564453125, 'epoch': 7.529411764705882}\n",
      "[rank0]:[W110 02:45:39.236192176 ProcessGroupNCCL.cpp:1250] Warning: WARNING: process group has NOT been destroyed before we destruct ProcessGroupNCCL. On normal program exit, the application should call destroy_process_group to ensure that any pending NCCL operations have finished in this process. In rare cases this process can exit before this point and block the progress of another member of the process group. This constraint has always been present,  but this warning has only been added since PyTorch 2.4 (function operator())\n"
     ]
    }
   ],
   "source": [
    "!make train_freeze"
   ]
  },
  {
   "cell_type": "code",
   "execution_count": 8,
   "metadata": {
    "id": "9d654230"
   },
   "outputs": [
    {
     "data": {
      "text/html": [
       "<div>\n",
       "<style scoped>\n",
       "    .dataframe tbody tr th:only-of-type {\n",
       "        vertical-align: middle;\n",
       "    }\n",
       "\n",
       "    .dataframe tbody tr th {\n",
       "        vertical-align: top;\n",
       "    }\n",
       "\n",
       "    .dataframe thead th {\n",
       "        text-align: right;\n",
       "    }\n",
       "</style>\n",
       "<table border=\"1\" class=\"dataframe\">\n",
       "  <thead>\n",
       "    <tr style=\"text-align: right;\">\n",
       "      <th></th>\n",
       "      <th>frozen_layers</th>\n",
       "      <th>data_format</th>\n",
       "      <th>accuracy</th>\n",
       "      <th>training_time</th>\n",
       "    </tr>\n",
       "  </thead>\n",
       "  <tbody>\n",
       "    <tr>\n",
       "      <th>0</th>\n",
       "      <td>80</td>\n",
       "      <td>float32</td>\n",
       "      <td>0.769895</td>\n",
       "      <td>45.031233</td>\n",
       "    </tr>\n",
       "    <tr>\n",
       "      <th>1</th>\n",
       "      <td>80</td>\n",
       "      <td>bfloat16</td>\n",
       "      <td>0.739214</td>\n",
       "      <td>23.616288</td>\n",
       "    </tr>\n",
       "    <tr>\n",
       "      <th>2</th>\n",
       "      <td>50</td>\n",
       "      <td>float32</td>\n",
       "      <td>0.800575</td>\n",
       "      <td>64.206407</td>\n",
       "    </tr>\n",
       "    <tr>\n",
       "      <th>3</th>\n",
       "      <td>50</td>\n",
       "      <td>bfloat16</td>\n",
       "      <td>0.772771</td>\n",
       "      <td>28.107975</td>\n",
       "    </tr>\n",
       "    <tr>\n",
       "      <th>4</th>\n",
       "      <td>20</td>\n",
       "      <td>float32</td>\n",
       "      <td>0.816874</td>\n",
       "      <td>75.496405</td>\n",
       "    </tr>\n",
       "    <tr>\n",
       "      <th>5</th>\n",
       "      <td>20</td>\n",
       "      <td>bfloat16</td>\n",
       "      <td>0.783317</td>\n",
       "      <td>34.711568</td>\n",
       "    </tr>\n",
       "    <tr>\n",
       "      <th>6</th>\n",
       "      <td>0</td>\n",
       "      <td>float32</td>\n",
       "      <td>0.814957</td>\n",
       "      <td>86.346460</td>\n",
       "    </tr>\n",
       "    <tr>\n",
       "      <th>7</th>\n",
       "      <td>0</td>\n",
       "      <td>bfloat16</td>\n",
       "      <td>0.788111</td>\n",
       "      <td>45.838654</td>\n",
       "    </tr>\n",
       "  </tbody>\n",
       "</table>\n",
       "</div>"
      ],
      "text/plain": [
       "   frozen_layers data_format  accuracy  training_time\n",
       "0             80     float32  0.769895      45.031233\n",
       "1             80    bfloat16  0.739214      23.616288\n",
       "2             50     float32  0.800575      64.206407\n",
       "3             50    bfloat16  0.772771      28.107975\n",
       "4             20     float32  0.816874      75.496405\n",
       "5             20    bfloat16  0.783317      34.711568\n",
       "6              0     float32  0.814957      86.346460\n",
       "7              0    bfloat16  0.788111      45.838654"
      ]
     },
     "execution_count": 8,
     "metadata": {},
     "output_type": "execute_result"
    }
   ],
   "source": [
    "import pandas as pd\n",
    "\n",
    "# Преобразование результатов в таблицу\n",
    "data_formats = ['float32', 'bfloat16']\n",
    "results_df = pd.read_csv('result/results.csv')\n",
    "results_df"
   ]
  },
  {
   "cell_type": "code",
   "execution_count": 9,
   "metadata": {
    "id": "bb302f6b"
   },
   "outputs": [
    {
     "data": {
      "image/png": "[encoded data removed]",
      "text/plain": [
       "<Figure size 640x480 with 1 Axes>"
      ]
     },
     "metadata": {},
     "output_type": "display_data"
    },
    {
     "data": {
      "image/png": "[encoded data removed]",
      "text/plain": [
       "<Figure size 640x480 with 1 Axes>"
      ]
     },
     "metadata": {},
     "output_type": "display_data"
    }
   ],
   "source": [
    "import matplotlib.pyplot as plt\n",
    "\n",
    "# Построение графиков точности\n",
    "for fmt in data_formats:\n",
    "    subset = results_df[results_df['data_format'] == fmt]\n",
    "    plt.plot(subset['frozen_layers'], subset['accuracy'], label=fmt)\n",
    "\n",
    "plt.title('Точность в зависимости от заморозки слоев')\n",
    "plt.xlabel('Процент замороженных слоев')\n",
    "plt.ylabel('Точность')\n",
    "plt.legend()\n",
    "plt.show()\n",
    "\n",
    "# Построение графиков времени обучения\n",
    "for fmt in data_formats:\n",
    "    subset = results_df[results_df['data_format'] == fmt]\n",
    "    plt.plot(subset['frozen_layers'], subset['training_time'], label=fmt)\n",
    "\n",
    "plt.title('Время обучения в зависимости от заморозки слоев')\n",
    "plt.xlabel('Процент замороженных слоев')\n",
    "plt.ylabel('Время обучения (с)')\n",
    "plt.legend()\n",
    "plt.show()"
   ]
  },
  {
   "cell_type": "markdown",
   "metadata": {
    "id": "98ca8681"
   },
   "source": [
    "## Этап 3: Адаптеры (30%)\n",
    "### Инструкция для этапа с LoRA (Low-Rank Adaptation)\n",
    "\n",
    "На этом этапе нужно добавить LoRA-адаптер к модели и обучить её с использованием адаптера. LoRA позволяет уменьшить количество обучаемых параметров, сохраняя при этом высокую точность модели.\n",
    "\n",
    "### Шаги\n",
    "1. **Добавление адаптера LoRA**:\n",
    "   - Реализуйте функцию `add_lora_adapter`, которая добавляет адаптер LoRA к вашей модели.\n",
    "   - Настройте параметры адаптера, такие как ранк (`r`) и альфа (`alpha`).\n",
    "   - Убедитесь, что адаптер корректно интегрирован в модель.\n",
    "\n",
    "2. **Настройка конфигурации адаптера**:\n",
    "   - Определите конфигурацию LoRA, которая будет использоваться для добавления адаптера.\n",
    "   - Используйте библиотеку `transformers` или другую совместимую с вашей моделью.\n",
    "\n",
    "3. **Обучение модели с LoRA**:\n",
    "   - Используйте `AdapterTrainer` или аналогичный инструмент для обучения модели с адаптером.\n",
    "   - Настройте гиперпараметры обучения: `learning_rate`, `batch_size`, количество эпох (`epochs`) и др.\n",
    "\n",
    "4. **Сбор и анализ метрик**:\n",
    "   - Во время обучения сохраняйте метрики точности, времени обучения и использования ресурсов.\n",
    "   - Сравните их с базовой моделью без адаптера.\n",
    "\n",
    "5. **Тестирование адаптера**:\n",
    "   - Проверьте работу адаптера, подав на вход модели тестовые примеры.\n",
    "   - Убедитесь, что адаптер улучшает производительность на задаче.\n",
    "\n",
    "### Пример кода для реализации\n",
    "```python\n",
    "def add_lora_adapter(model, r=16, alpha=32):\n",
    "    from transformers.adapters import LoRAConfig\n",
    "    \n",
    "    # Создание конфигурации LoRA\n",
    "    config = LoRAConfig(r=r, alpha=alpha)\n",
    "    model.add_adapter(\"lora_adapter\", config=config)\n",
    "    model.train_adapter(\"lora_adapter\")  # Активируем адаптер для обучения\n",
    "    return model"
   ]
  },
  {
   "cell_type": "markdown",
   "metadata": {
    "id": "UsbxNBnYIp0v"
   },
   "source": [
    "Сделайте свой адаптер LORA, Prompt tuning и prefix tuning, после чего загрузите датасет GLUE и заполните параметры обучения и адаптера"
   ]
  },
  {
   "cell_type": "code",
   "execution_count": 10,
   "metadata": {
    "id": "pxeks3VlDk7I"
   },
   "outputs": [
    {
     "name": "stdout",
     "output_type": "stream",
     "text": [
      "ClearML Task: created new task id=b357b3384404494bbf9c14cd8ad3e222\n",
      "2025-01-10 02:45:45,268 - clearml.Task - INFO - Storing jupyter notebook directly as code\n",
      "ClearML results page: https://app.clear.ml/projects/73cf34dc1ccc4ddbb5a06ecf6486c3d8/experiments/b357b3384404494bbf9c14cd8ad3e222/output/log\n"
     ]
    },
    {
     "name": "stderr",
     "output_type": "stream",
     "text": [
      "Some weights of BertForSequenceClassification were not initialized from the model checkpoint at bert-base-uncased and are newly initialized: ['classifier.bias', 'classifier.weight']\n",
      "You should probably TRAIN this model on a down-stream task to be able to use it for predictions and inference.\n"
     ]
    },
    {
     "name": "stdout",
     "output_type": "stream",
     "text": [
      "trainable params: 589,824 || all params: 110,073,602 || trainable%: 0.5358\n",
      "[2025-01-10 02:45:54,583] [INFO] [real_accelerator.py:222:get_accelerator] Setting ds_accelerator to cuda (auto detect)\n"
     ]
    },
    {
     "name": "stderr",
     "output_type": "stream",
     "text": [
      "/home/toor/miniconda3/bin/../lib/gcc/x86_64-conda-linux-gnu/11.2.0/../../../../x86_64-conda-linux-gnu/bin/ld: cannot find -laio: Нет такого файла или каталога\n",
      "collect2: error: ld returned 1 exit status\n"
     ]
    },
    {
     "name": "stdout",
     "output_type": "stream",
     "text": [
      "2025-01-10 02:45:55,146 - clearml.Task - WARNING - Parameters must be of builtin type (Transformers/accelerator_config[AcceleratorConfig])\n"
     ]
    },
    {
     "name": "stderr",
     "output_type": "stream",
     "text": [
      "/home/toor/miniconda3/bin/../lib/gcc/x86_64-conda-linux-gnu/11.2.0/../../../../x86_64-conda-linux-gnu/bin/ld: /home/toor/miniconda3/lib/libcufile.so: undefined reference to `dlvsym'\n",
      "/home/toor/miniconda3/bin/../lib/gcc/x86_64-conda-linux-gnu/11.2.0/../../../../x86_64-conda-linux-gnu/bin/ld: /home/toor/miniconda3/lib/libcufile.so: undefined reference to `dlopen'\n",
      "/home/toor/miniconda3/bin/../lib/gcc/x86_64-conda-linux-gnu/11.2.0/../../../../x86_64-conda-linux-gnu/bin/ld: /home/toor/miniconda3/lib/libcufile.so: undefined reference to `dlclose'\n",
      "/home/toor/miniconda3/bin/../lib/gcc/x86_64-conda-linux-gnu/11.2.0/../../../../x86_64-conda-linux-gnu/bin/ld: /home/toor/miniconda3/lib/libcufile.so: undefined reference to `dlerror'\n",
      "/home/toor/miniconda3/bin/../lib/gcc/x86_64-conda-linux-gnu/11.2.0/../../../../x86_64-conda-linux-gnu/bin/ld: /home/toor/miniconda3/lib/libcufile.so: undefined reference to `dlsym'\n",
      "collect2: error: ld returned 1 exit status\n"
     ]
    },
    {
     "data": {
      "text/html": [
       "\n",
       "    <div>\n",
       "      \n",
       "      <progress value='64' max='64' style='width:300px; height:20px; vertical-align: middle;'></progress>\n",
       "      [64/64 00:24, Epoch 7/8]\n",
       "    </div>\n",
       "    <table border=\"1\" class=\"dataframe\">\n",
       "  <thead>\n",
       " <tr style=\"text-align: left;\">\n",
       "      <th>Epoch</th>\n",
       "      <th>Training Loss</th>\n",
       "      <th>Validation Loss</th>\n",
       "      <th>Accuracy</th>\n",
       "    </tr>\n",
       "  </thead>\n",
       "  <tbody>\n",
       "    <tr>\n",
       "      <td>0</td>\n",
       "      <td>No log</td>\n",
       "      <td>0.888213</td>\n",
       "      <td>0.308725</td>\n",
       "    </tr>\n",
       "    <tr>\n",
       "      <td>2</td>\n",
       "      <td>No log</td>\n",
       "      <td>0.860514</td>\n",
       "      <td>0.309684</td>\n",
       "    </tr>\n",
       "    <tr>\n",
       "      <td>4</td>\n",
       "      <td>No log</td>\n",
       "      <td>0.827807</td>\n",
       "      <td>0.308725</td>\n",
       "    </tr>\n",
       "    <tr>\n",
       "      <td>6</td>\n",
       "      <td>No log</td>\n",
       "      <td>0.790306</td>\n",
       "      <td>0.309684</td>\n",
       "    </tr>\n",
       "    <tr>\n",
       "      <td>7</td>\n",
       "      <td>No log</td>\n",
       "      <td>0.775497</td>\n",
       "      <td>0.309684</td>\n",
       "    </tr>\n",
       "  </tbody>\n",
       "</table><p>"
      ],
      "text/plain": [
       "<IPython.core.display.HTML object>"
      ]
     },
     "metadata": {},
     "output_type": "display_data"
    },
    {
     "data": {
      "text/html": [
       "\n",
       "    <div>\n",
       "      \n",
       "      <progress value='5' max='5' style='width:300px; height:20px; vertical-align: middle;'></progress>\n",
       "      [5/5 00:00]\n",
       "    </div>\n",
       "    "
      ],
      "text/plain": [
       "<IPython.core.display.HTML object>"
      ]
     },
     "metadata": {},
     "output_type": "display_data"
    },
    {
     "name": "stdout",
     "output_type": "stream",
     "text": [
      "Оценка модели: {'eval_loss': 0.8605135679244995, 'eval_accuracy': 0.3096836049856184, 'eval_runtime': 0.2448, 'eval_samples_per_second': 4261.296, 'eval_steps_per_second': 20.428, 'epoch': 7.529411764705882}\n",
      "Результат адаптера: [[0.8125, 0.1669921875]]\n"
     ]
    },
    {
     "name": "stderr",
     "output_type": "stream",
     "text": [
      "Retrying (Retry(total=237, connect=237, read=240, redirect=240, status=240)) after connection broken by 'NameResolutionError(\"<urllib3.connection.HTTPSConnection object at 0x75cb03982ed0>: Failed to resolve 'api.clear.ml' ([Errno -3] Temporary failure in name resolution)\")': /v2.23/events.add_batch\n",
      "Retrying (Retry(total=236, connect=236, read=240, redirect=240, status=240)) after connection broken by 'NameResolutionError(\"<urllib3.connection.HTTPSConnection object at 0x75cb039314d0>: Failed to resolve 'api.clear.ml' ([Errno -3] Temporary failure in name resolution)\")': /v2.23/events.add_batch\n",
      "Retrying (Retry(total=237, connect=237, read=240, redirect=240, status=240)) after connection broken by 'NameResolutionError(\"<urllib3.connection.HTTPSConnection object at 0x75cb039b0050>: Failed to resolve 'api.clear.ml' ([Errno -3] Temporary failure in name resolution)\")': /v2.23/tasks.get_all\n",
      "Retrying (Retry(total=237, connect=237, read=240, redirect=240, status=240)) after connection broken by 'NameResolutionError(\"<urllib3.connection.HTTPSConnection object at 0x75cb039b9c90>: Failed to resolve 'api.clear.ml' ([Errno -3] Temporary failure in name resolution)\")': /v2.23/events.add_batch\n",
      "Retrying (Retry(total=236, connect=236, read=240, redirect=240, status=240)) after connection broken by 'NameResolutionError(\"<urllib3.connection.HTTPSConnection object at 0x75cb039b1a50>: Failed to resolve 'api.clear.ml' ([Errno -3] Temporary failure in name resolution)\")': /v2.23/tasks.get_all\n",
      "Retrying (Retry(total=236, connect=236, read=240, redirect=240, status=240)) after connection broken by 'NameResolutionError(\"<urllib3.connection.HTTPSConnection object at 0x75cb039ba550>: Failed to resolve 'api.clear.ml' ([Errno -3] Temporary failure in name resolution)\")': /v2.23/events.add_batch\n",
      "Retrying (Retry(total=235, connect=235, read=240, redirect=240, status=240)) after connection broken by 'NameResolutionError(\"<urllib3.connection.HTTPSConnection object at 0x75cb039bad90>: Failed to resolve 'api.clear.ml' ([Errno -3] Temporary failure in name resolution)\")': /v2.23/tasks.get_all\n"
     ]
    }
   ],
   "source": [
    "def add_lora_adapter(model, r=16, alpha=32):\n",
    "    config = LoraConfig(r=r, lora_alpha=alpha, task_type='CAUSAL_LM')\n",
    "    return get_peft_model(model, config)\n",
    "\n",
    "\n",
    "class PromptTuning:\n",
    "    def __init__(self, model, tokenizer, prompt_length=10):\n",
    "        self.model = model\n",
    "        self.tokenizer = tokenizer\n",
    "        self.prompt_length = prompt_length\n",
    "        self.prompt_tokens = ... # <YOUR CODE>\n",
    "\n",
    "    def forward(self, inputs):\n",
    "        # Добавление обучаемых токенов (prompt) к каждому входному примеру\n",
    "        input_embeddings = ... # <YOUR CODE>\n",
    "        prompt_embeddings = ... # <YOUR CODE>\n",
    "        input_embeddings = ... # <YOUR CODE>\n",
    "        return self.model(inputs['input_ids'], inputs_embeds=input_embeddings)\n",
    "\n",
    "\n",
    "class PrefixTuning:\n",
    "    def __init__(self, model, tokenizer, prefix_length=10):\n",
    "        self.model = model\n",
    "        self.tokenizer = tokenizer\n",
    "        self.prefix_length = prefix_length\n",
    "        self.prefix_tokens = ... # <YOUR CODE>\n",
    "\n",
    "    def forward(self, inputs):\n",
    "        # Добавление обучаемых префиксных токенов к каждому входному примеру\n",
    "        input_embeddings = ... # <YOUR CODE>\n",
    "        prefix_embeddings = ... # <YOUR CODE>\n",
    "        input_embeddings = ... # <YOUR CODE>\n",
    "        return self.model(inputs['input_ids'], inputs_embeds=input_embeddings)\n",
    "\n",
    "\n",
    "def train_and_evaluate(config, model, tokenizer, train_dataset, eval_dataset):\n",
    "    optimizer = load_object(config.optimizer)(\n",
    "        filter(lambda p: p.requires_grad, model.parameters()),\n",
    "        **config.optimizer_kwargs,\n",
    "    )\n",
    "\n",
    "    scheduler = load_object(config.scheduler)(optimizer, **config.scheduler_kwargs)\n",
    "\n",
    "    training_args = TrainingArguments(\n",
    "        output_dir=config.output_dir,\n",
    "        eval_strategy='epoch',\n",
    "        save_strategy='epoch',\n",
    "        # logging_steps=10,\n",
    "        logging_dir='logs',\n",
    "        per_device_train_batch_size=config.data_config.batch_size,\n",
    "        per_device_eval_batch_size=config.data_config.batch_size,\n",
    "        gradient_accumulation_steps=config.model_kwargs['gradient_accumulation_steps'],\n",
    "        max_grad_norm=config.model_kwargs['max_grad_norm'],\n",
    "        num_train_epochs=config.n_epochs,\n",
    "        dataloader_num_workers=config.data_config.n_workers,\n",
    "        load_best_model_at_end=True,\n",
    "        metric_for_best_model=config.monitor_metric,\n",
    "        report_to = 'clearml',\n",
    "        # disable_tqdm = True,\n",
    "    )\n",
    "\n",
    "    trainer = Trainer(\n",
    "        args=training_args,\n",
    "        model=model,\n",
    "        tokenizer=tokenizer,\n",
    "        optimizers=(optimizer, scheduler),\n",
    "        train_dataset=train_dataset,\n",
    "        eval_dataset=eval_dataset,\n",
    "        compute_metrics=compute_metrics,\n",
    "    )\n",
    "\n",
    "    trainer.train()\n",
    "    print(f\"Оценка модели: {trainer.evaluate()}\")\n",
    "\n",
    "\n",
    "config = Config.from_yaml('config/config_lora.yml')\n",
    "task = Task.init(project_name='Disable Logging', task_name=config.task_name, auto_connect_frameworks={'pytorch': False})\n",
    "\n",
    "tokenizer, model = load_model_and_tokenizer_from_config(config)\n",
    "\n",
    "lora_model = add_lora_adapter(model)\n",
    "lora_model.print_trainable_parameters()\n",
    "\n",
    "train_dataset, eval_dataset = glue_dataset(config.model_kwargs['model_name'])\n",
    "\n",
    "train_and_evaluate(config, lora_model, tokenizer, train_dataset, eval_dataset)\n",
    "\n",
    "inputs = tokenizer(\"The quick brown fox jumps over the lazy dog.\", return_tensors=\"pt\")\n",
    "inputs = {k: v.to('cuda') for k, v in inputs.items()}\n",
    "output = lora_model(**inputs)\n",
    "print(\"Результат адаптера:\", output.logits.detach().cpu().float().numpy().tolist())\n",
    "\n",
    "# Опционально, добавление Prompt Tuning и Prefix Tuning\n",
    "# prompt_tuning = PromptTuning(model, tokenizer)\n",
    "# prefix_tuning = PrefixTuning(model, tokenizer)\n",
    "\n",
    "# inputs = tokenizer(\"The quick brown fox jumps over the lazy dog.\", return_tensors=\"pt\")\n",
    "# output = prompt_tuning.forward(inputs)\n",
    "# print(\"Результат Prompt Tuning:\", output)\n",
    "\n",
    "# inputs = tokenizer(\"The quick brown fox jumps over the lazy dog.\", return_tensors=\"pt\")\n",
    "# output = prefix_tuning.forward(inputs)\n",
    "# print(\"Результат Prefix Tuning:\", output)"
   ]
  },
  {
   "cell_type": "code",
   "execution_count": 11,
   "metadata": {},
   "outputs": [
    {
     "name": "stdout",
     "output_type": "stream",
     "text": [
      "PYTHONPATH=. python src/train_lora.py config/config_lora.yml\n",
      "/home/toor/miniconda3/lib/python3.11/site-packages/pydantic/_internal/_fields.py:132: UserWarning: Field \"model_kwargs\" in Config has conflict with protected namespace \"model_\".\n",
      "\n",
      "You may be able to resolve this warning by setting `model_config['protected_namespaces'] = ()`.\n",
      "  warnings.warn(\n",
      "Some weights of BertForSequenceClassification were not initialized from the model checkpoint at bert-base-uncased and are newly initialized: ['classifier.bias', 'classifier.weight']\n",
      "You should probably TRAIN this model on a down-stream task to be able to use it for predictions and inference.\n",
      "[2025-01-10 02:46:40,369] [INFO] [real_accelerator.py:222:get_accelerator] Setting ds_accelerator to cuda (auto detect)\n",
      "2025-01-10 02:46:40,770 - clearml.Task - WARNING - Parameters must be of builtin type (Transformers/accelerator_config[AcceleratorConfig])\n",
      "{'eval_loss': 0.6670867800712585, 'eval_accuracy': 0.6347075743048898, 'eval_runtime': 0.2373, 'eval_samples_per_second': 4395.017, 'eval_steps_per_second': 21.069, 'epoch': 0.9411764705882353}\n",
      "{'eval_loss': 0.6648059487342834, 'eval_accuracy': 0.6375838926174496, 'eval_runtime': 0.2277, 'eval_samples_per_second': 4580.737, 'eval_steps_per_second': 21.959, 'epoch': 2.0}\n",
      "{'eval_loss': 0.6611674427986145, 'eval_accuracy': 0.6558005752636625, 'eval_runtime': 0.2258, 'eval_samples_per_second': 4618.634, 'eval_steps_per_second': 22.141, 'epoch': 2.9411764705882355}\n",
      "{'eval_loss': 0.6585533022880554, 'eval_accuracy': 0.6644295302013423, 'eval_runtime': 0.2281, 'eval_samples_per_second': 4571.632, 'eval_steps_per_second': 21.916, 'epoch': 4.0}\n",
      "{'eval_loss': 0.6548361778259277, 'eval_accuracy': 0.6720997123681688, 'eval_runtime': 0.2341, 'eval_samples_per_second': 4454.579, 'eval_steps_per_second': 21.355, 'epoch': 4.9411764705882355}\n",
      "{'eval_loss': 0.6516996026039124, 'eval_accuracy': 0.6788111217641419, 'eval_runtime': 0.2329, 'eval_samples_per_second': 4478.461, 'eval_steps_per_second': 21.469, 'epoch': 6.0}\n",
      "{'eval_loss': 0.648937463760376, 'eval_accuracy': 0.6855225311601151, 'eval_runtime': 0.2262, 'eval_samples_per_second': 4611.603, 'eval_steps_per_second': 22.107, 'epoch': 6.9411764705882355}\n",
      "{'eval_loss': 0.6466154456138611, 'eval_accuracy': 0.6864813039309684, 'eval_runtime': 0.2339, 'eval_samples_per_second': 4459.287, 'eval_steps_per_second': 21.377, 'epoch': 7.529411764705882}\n",
      "{'train_runtime': 30.3699, 'train_samples_per_second': 2252.495, 'train_steps_per_second': 2.107, 'train_loss': 0.6551680564880371, 'epoch': 7.529411764705882}\n",
      "Some weights of BertForSequenceClassification were not initialized from the model checkpoint at bert-base-uncased and are newly initialized: ['classifier.bias', 'classifier.weight']\n",
      "You should probably TRAIN this model on a down-stream task to be able to use it for predictions and inference.\n",
      "2025-01-10 02:47:11,786 - clearml.Task - WARNING - Parameters must be of builtin type (Transformers_2/accelerator_config[AcceleratorConfig])\n",
      "{'eval_loss': 0.6231854557991028, 'eval_accuracy': 0.6912751677852349, 'eval_runtime': 0.2339, 'eval_samples_per_second': 4459.651, 'eval_steps_per_second': 21.379, 'epoch': 0.9411764705882353}\n",
      "{'eval_loss': 0.6224926114082336, 'eval_accuracy': 0.6912751677852349, 'eval_runtime': 0.2356, 'eval_samples_per_second': 4427.291, 'eval_steps_per_second': 21.224, 'epoch': 2.0}\n",
      "{'eval_loss': 0.6213933825492859, 'eval_accuracy': 0.6912751677852349, 'eval_runtime': 0.2431, 'eval_samples_per_second': 4291.2, 'eval_steps_per_second': 20.571, 'epoch': 2.9411764705882355}\n",
      "{'eval_loss': 0.6205900311470032, 'eval_accuracy': 0.6912751677852349, 'eval_runtime': 0.234, 'eval_samples_per_second': 4457.524, 'eval_steps_per_second': 21.369, 'epoch': 4.0}\n",
      "{'eval_loss': 0.6196069121360779, 'eval_accuracy': 0.6912751677852349, 'eval_runtime': 0.238, 'eval_samples_per_second': 4381.674, 'eval_steps_per_second': 21.005, 'epoch': 4.9411764705882355}\n",
      "{'eval_loss': 0.618678092956543, 'eval_accuracy': 0.6912751677852349, 'eval_runtime': 0.2341, 'eval_samples_per_second': 4455.078, 'eval_steps_per_second': 21.357, 'epoch': 6.0}\n",
      "{'eval_loss': 0.6179627776145935, 'eval_accuracy': 0.6912751677852349, 'eval_runtime': 0.2419, 'eval_samples_per_second': 4312.057, 'eval_steps_per_second': 20.671, 'epoch': 6.9411764705882355}\n",
      "{'eval_loss': 0.617316722869873, 'eval_accuracy': 0.6912751677852349, 'eval_runtime': 0.2418, 'eval_samples_per_second': 4313.706, 'eval_steps_per_second': 20.679, 'epoch': 7.529411764705882}\n",
      "{'train_runtime': 31.3038, 'train_samples_per_second': 2185.297, 'train_steps_per_second': 2.044, 'train_loss': 0.6160918474197388, 'epoch': 7.529411764705882}\n",
      "Some weights of BertForSequenceClassification were not initialized from the model checkpoint at bert-base-uncased and are newly initialized: ['classifier.bias', 'classifier.weight']\n",
      "You should probably TRAIN this model on a down-stream task to be able to use it for predictions and inference.\n",
      "2025-01-10 02:47:43,743 - clearml.Task - WARNING - Parameters must be of builtin type (Transformers_3/accelerator_config[AcceleratorConfig])\n",
      "{'eval_loss': 0.6283800601959229, 'eval_accuracy': 0.6903163950143816, 'eval_runtime': 0.2398, 'eval_samples_per_second': 4349.493, 'eval_steps_per_second': 20.851, 'epoch': 0.9411764705882353}\n",
      "{'eval_loss': 0.6271927952766418, 'eval_accuracy': 0.6903163950143816, 'eval_runtime': 0.2411, 'eval_samples_per_second': 4325.987, 'eval_steps_per_second': 20.738, 'epoch': 2.0}\n",
      "{'eval_loss': 0.6253557801246643, 'eval_accuracy': 0.6912751677852349, 'eval_runtime': 0.2391, 'eval_samples_per_second': 4362.871, 'eval_steps_per_second': 20.915, 'epoch': 2.9411764705882355}\n",
      "{'eval_loss': 0.6240524649620056, 'eval_accuracy': 0.6912751677852349, 'eval_runtime': 0.2407, 'eval_samples_per_second': 4332.667, 'eval_steps_per_second': 20.77, 'epoch': 4.0}\n",
      "{'eval_loss': 0.6222959756851196, 'eval_accuracy': 0.6912751677852349, 'eval_runtime': 0.2464, 'eval_samples_per_second': 4232.85, 'eval_steps_per_second': 20.292, 'epoch': 4.9411764705882355}\n",
      "{'eval_loss': 0.6209402084350586, 'eval_accuracy': 0.6912751677852349, 'eval_runtime': 0.2455, 'eval_samples_per_second': 4247.943, 'eval_steps_per_second': 20.364, 'epoch': 6.0}\n",
      "{'eval_loss': 0.6196874380111694, 'eval_accuracy': 0.6912751677852349, 'eval_runtime': 0.2386, 'eval_samples_per_second': 4371.66, 'eval_steps_per_second': 20.957, 'epoch': 6.9411764705882355}\n",
      "{'eval_loss': 0.6186912059783936, 'eval_accuracy': 0.6912751677852349, 'eval_runtime': 0.2405, 'eval_samples_per_second': 4336.459, 'eval_steps_per_second': 20.788, 'epoch': 7.529411764705882}\n",
      "{'train_runtime': 30.449, 'train_samples_per_second': 2246.64, 'train_steps_per_second': 2.102, 'train_loss': 0.6250342130661011, 'epoch': 7.529411764705882}\n",
      "Some weights of BertForSequenceClassification were not initialized from the model checkpoint at bert-base-uncased and are newly initialized: ['classifier.bias', 'classifier.weight']\n",
      "You should probably TRAIN this model on a down-stream task to be able to use it for predictions and inference.\n",
      "2025-01-10 02:48:14,828 - clearml.Task - WARNING - Parameters must be of builtin type (Transformers_4/accelerator_config[AcceleratorConfig])\n",
      "{'eval_loss': 0.623076856136322, 'eval_accuracy': 0.6912751677852349, 'eval_runtime': 0.2405, 'eval_samples_per_second': 4337.655, 'eval_steps_per_second': 20.794, 'epoch': 0.9411764705882353}\n",
      "{'eval_loss': 0.6221798658370972, 'eval_accuracy': 0.6912751677852349, 'eval_runtime': 0.2402, 'eval_samples_per_second': 4342.223, 'eval_steps_per_second': 20.816, 'epoch': 2.0}\n",
      "{'eval_loss': 0.6210656762123108, 'eval_accuracy': 0.6912751677852349, 'eval_runtime': 0.2401, 'eval_samples_per_second': 4344.646, 'eval_steps_per_second': 20.828, 'epoch': 2.9411764705882355}\n",
      "{'eval_loss': 0.6202173829078674, 'eval_accuracy': 0.6912751677852349, 'eval_runtime': 0.2414, 'eval_samples_per_second': 4321.21, 'eval_steps_per_second': 20.715, 'epoch': 4.0}\n",
      "{'eval_loss': 0.6192342638969421, 'eval_accuracy': 0.6912751677852349, 'eval_runtime': 0.2432, 'eval_samples_per_second': 4289.13, 'eval_steps_per_second': 20.562, 'epoch': 4.9411764705882355}\n",
      "{'eval_loss': 0.6183354258537292, 'eval_accuracy': 0.6912751677852349, 'eval_runtime': 0.248, 'eval_samples_per_second': 4205.906, 'eval_steps_per_second': 20.163, 'epoch': 6.0}\n",
      "{'eval_loss': 0.6175695061683655, 'eval_accuracy': 0.6912751677852349, 'eval_runtime': 0.2424, 'eval_samples_per_second': 4301.96, 'eval_steps_per_second': 20.623, 'epoch': 6.9411764705882355}\n",
      "{'eval_loss': 0.6169683933258057, 'eval_accuracy': 0.6912751677852349, 'eval_runtime': 0.2434, 'eval_samples_per_second': 4284.798, 'eval_steps_per_second': 20.541, 'epoch': 7.529411764705882}\n",
      "{'train_runtime': 30.8392, 'train_samples_per_second': 2218.214, 'train_steps_per_second': 2.075, 'train_loss': 0.6157383918762207, 'epoch': 7.529411764705882}\n",
      "Some weights of BertForSequenceClassification were not initialized from the model checkpoint at bert-base-uncased and are newly initialized: ['classifier.bias', 'classifier.weight']\n",
      "You should probably TRAIN this model on a down-stream task to be able to use it for predictions and inference.\n",
      "2025-01-10 02:48:46,307 - clearml.Task - WARNING - Parameters must be of builtin type (Transformers_5/accelerator_config[AcceleratorConfig])\n",
      "{'eval_loss': 0.6292957663536072, 'eval_accuracy': 0.6903163950143816, 'eval_runtime': 0.249, 'eval_samples_per_second': 4189.207, 'eval_steps_per_second': 20.082, 'epoch': 0.9411764705882353}\n",
      "{'eval_loss': 0.6291777491569519, 'eval_accuracy': 0.6903163950143816, 'eval_runtime': 0.2423, 'eval_samples_per_second': 4305.411, 'eval_steps_per_second': 20.64, 'epoch': 2.0}\n",
      "{'eval_loss': 0.6287058591842651, 'eval_accuracy': 0.6903163950143816, 'eval_runtime': 0.2453, 'eval_samples_per_second': 4251.258, 'eval_steps_per_second': 20.38, 'epoch': 2.9411764705882355}\n",
      "{'eval_loss': 0.6283575892448425, 'eval_accuracy': 0.6903163950143816, 'eval_runtime': 0.254, 'eval_samples_per_second': 4106.173, 'eval_steps_per_second': 19.684, 'epoch': 4.0}\n",
      "{'eval_loss': 0.6277658343315125, 'eval_accuracy': 0.6903163950143816, 'eval_runtime': 0.2474, 'eval_samples_per_second': 4215.434, 'eval_steps_per_second': 20.208, 'epoch': 4.9411764705882355}\n",
      "{'eval_loss': 0.6272283792495728, 'eval_accuracy': 0.6903163950143816, 'eval_runtime': 0.2448, 'eval_samples_per_second': 4261.001, 'eval_steps_per_second': 20.427, 'epoch': 6.0}\n",
      "{'eval_loss': 0.6264830827713013, 'eval_accuracy': 0.6912751677852349, 'eval_runtime': 0.2449, 'eval_samples_per_second': 4259.031, 'eval_steps_per_second': 20.417, 'epoch': 6.9411764705882355}\n",
      "{'eval_loss': 0.6260411739349365, 'eval_accuracy': 0.6912751677852349, 'eval_runtime': 0.2485, 'eval_samples_per_second': 4196.976, 'eval_steps_per_second': 20.12, 'epoch': 7.529411764705882}\n",
      "{'train_runtime': 30.9996, 'train_samples_per_second': 2206.739, 'train_steps_per_second': 2.065, 'train_loss': 0.6299309134483337, 'epoch': 7.529411764705882}\n",
      "Some weights of BertForSequenceClassification were not initialized from the model checkpoint at bert-base-uncased and are newly initialized: ['classifier.bias', 'classifier.weight']\n",
      "You should probably TRAIN this model on a down-stream task to be able to use it for predictions and inference.\n",
      "2025-01-10 02:49:18,083 - clearml.Task - WARNING - Parameters must be of builtin type (Transformers_6/accelerator_config[AcceleratorConfig])\n",
      "{'eval_loss': 0.6237191557884216, 'eval_accuracy': 0.6912751677852349, 'eval_runtime': 0.2512, 'eval_samples_per_second': 4152.291, 'eval_steps_per_second': 19.906, 'epoch': 0.9411764705882353}\n",
      "{'eval_loss': 0.6235281229019165, 'eval_accuracy': 0.6912751677852349, 'eval_runtime': 0.2484, 'eval_samples_per_second': 4198.096, 'eval_steps_per_second': 20.125, 'epoch': 2.0}\n",
      "{'eval_loss': 0.6232491135597229, 'eval_accuracy': 0.6912751677852349, 'eval_runtime': 0.2415, 'eval_samples_per_second': 4318.007, 'eval_steps_per_second': 20.7, 'epoch': 2.9411764705882355}\n",
      "{'eval_loss': 0.6230787038803101, 'eval_accuracy': 0.6912751677852349, 'eval_runtime': 0.2526, 'eval_samples_per_second': 4128.532, 'eval_steps_per_second': 19.792, 'epoch': 4.0}\n",
      "{'eval_loss': 0.6226180195808411, 'eval_accuracy': 0.6912751677852349, 'eval_runtime': 0.245, 'eval_samples_per_second': 4257.112, 'eval_steps_per_second': 20.408, 'epoch': 4.9411764705882355}\n",
      "{'eval_loss': 0.6222285628318787, 'eval_accuracy': 0.6912751677852349, 'eval_runtime': 0.2434, 'eval_samples_per_second': 4284.605, 'eval_steps_per_second': 20.54, 'epoch': 6.0}\n",
      "{'eval_loss': 0.6218147277832031, 'eval_accuracy': 0.6912751677852349, 'eval_runtime': 0.2504, 'eval_samples_per_second': 4164.89, 'eval_steps_per_second': 19.966, 'epoch': 6.9411764705882355}\n",
      "{'eval_loss': 0.6215787529945374, 'eval_accuracy': 0.6912751677852349, 'eval_runtime': 0.247, 'eval_samples_per_second': 4223.443, 'eval_steps_per_second': 20.247, 'epoch': 7.529411764705882}\n",
      "{'train_runtime': 31.0046, 'train_samples_per_second': 2206.386, 'train_steps_per_second': 2.064, 'train_loss': 0.6190352439880371, 'epoch': 7.529411764705882}\n"
     ]
    }
   ],
   "source": [
    "!make train_lora"
   ]
  },
  {
   "cell_type": "code",
   "execution_count": 12,
   "metadata": {},
   "outputs": [
    {
     "data": {
      "text/html": [
       "<div>\n",
       "<style scoped>\n",
       "    .dataframe tbody tr th:only-of-type {\n",
       "        vertical-align: middle;\n",
       "    }\n",
       "\n",
       "    .dataframe tbody tr th {\n",
       "        vertical-align: top;\n",
       "    }\n",
       "\n",
       "    .dataframe thead th {\n",
       "        text-align: right;\n",
       "    }\n",
       "</style>\n",
       "<table border=\"1\" class=\"dataframe\">\n",
       "  <thead>\n",
       "    <tr style=\"text-align: right;\">\n",
       "      <th></th>\n",
       "      <th>adapter</th>\n",
       "      <th>data_format</th>\n",
       "      <th>accuracy</th>\n",
       "      <th>training_time</th>\n",
       "    </tr>\n",
       "  </thead>\n",
       "  <tbody>\n",
       "    <tr>\n",
       "      <th>0</th>\n",
       "      <td>lora (r=16, alpha=32)</td>\n",
       "      <td>float32</td>\n",
       "      <td>0.686481</td>\n",
       "      <td>31.759862</td>\n",
       "    </tr>\n",
       "    <tr>\n",
       "      <th>1</th>\n",
       "      <td>lora (r=16, alpha=32)</td>\n",
       "      <td>bfloat16</td>\n",
       "      <td>0.691275</td>\n",
       "      <td>31.018168</td>\n",
       "    </tr>\n",
       "    <tr>\n",
       "      <th>2</th>\n",
       "      <td>lora (r=8, alpha=32)</td>\n",
       "      <td>float32</td>\n",
       "      <td>0.691275</td>\n",
       "      <td>31.392512</td>\n",
       "    </tr>\n",
       "    <tr>\n",
       "      <th>3</th>\n",
       "      <td>lora (r=8, alpha=32)</td>\n",
       "      <td>bfloat16</td>\n",
       "      <td>0.691275</td>\n",
       "      <td>31.731416</td>\n",
       "    </tr>\n",
       "    <tr>\n",
       "      <th>4</th>\n",
       "      <td>lora (r=8, alpha=8)</td>\n",
       "      <td>float32</td>\n",
       "      <td>0.691275</td>\n",
       "      <td>32.522612</td>\n",
       "    </tr>\n",
       "    <tr>\n",
       "      <th>5</th>\n",
       "      <td>lora (r=8, alpha=8)</td>\n",
       "      <td>bfloat16</td>\n",
       "      <td>0.691275</td>\n",
       "      <td>31.790494</td>\n",
       "    </tr>\n",
       "  </tbody>\n",
       "</table>\n",
       "</div>"
      ],
      "text/plain": [
       "                 adapter data_format  accuracy  training_time\n",
       "0  lora (r=16, alpha=32)     float32  0.686481      31.759862\n",
       "1  lora (r=16, alpha=32)    bfloat16  0.691275      31.018168\n",
       "2   lora (r=8, alpha=32)     float32  0.691275      31.392512\n",
       "3   lora (r=8, alpha=32)    bfloat16  0.691275      31.731416\n",
       "4    lora (r=8, alpha=8)     float32  0.691275      32.522612\n",
       "5    lora (r=8, alpha=8)    bfloat16  0.691275      31.790494"
      ]
     },
     "execution_count": 12,
     "metadata": {},
     "output_type": "execute_result"
    }
   ],
   "source": [
    "adapter_results_df = pd.read_csv('result/results_lora.csv')\n",
    "adapters = adapter_results_df.adapter.unique()\n",
    "adapter_results_df"
   ]
  },
  {
   "cell_type": "code",
   "execution_count": 13,
   "metadata": {
    "id": "HYcgKbeOPNhO"
   },
   "outputs": [
    {
     "data": {
      "image/png": "[encoded data removed]",
      "text/plain": [
       "<Figure size 640x480 with 1 Axes>"
      ]
     },
     "metadata": {},
     "output_type": "display_data"
    },
    {
     "data": {
      "image/png": "[encoded data removed]",
      "text/plain": [
       "<Figure size 640x480 with 1 Axes>"
      ]
     },
     "metadata": {},
     "output_type": "display_data"
    }
   ],
   "source": [
    "# Построение графиков точности\n",
    "for adapter in adapters:\n",
    "    subset = adapter_results_df[adapter_results_df['adapter'] == adapter]\n",
    "    plt.bar(subset['data_format'], subset['accuracy'], label=adapter)\n",
    "    # plt.plot(subset['data_format'], subset['accuracy'], label=adapter)\n",
    "\n",
    "plt.title('Точность адаптеров по форматам данных')\n",
    "plt.xlabel('Формат данных')\n",
    "plt.ylabel('Точность')\n",
    "plt.legend()\n",
    "plt.show()\n",
    "\n",
    "# Построение графиков времени обучения\n",
    "for adapter in adapters:\n",
    "    subset = adapter_results_df[adapter_results_df['adapter'] == adapter]\n",
    "    plt.bar(subset['data_format'], subset['training_time'], label=adapter)\n",
    "    # plt.plot(subset['data_format'], subset['training_time'], label=adapter)\n",
    "\n",
    "\n",
    "plt.title('Время обучения адаптеров по форматам данных')\n",
    "plt.xlabel('Формат данных')\n",
    "plt.ylabel('Время обучения (с)')\n",
    "plt.legend()\n",
    "plt.show()"
   ]
  },
  {
   "cell_type": "markdown",
   "metadata": {
    "id": "c3f15f4b"
   },
   "source": [
    "# Этап 4: Сравнение датасетов (20% оценки)\n",
    "## Инструкция для этапа сравнения разных датасетов (CoQA, Russian SuperGLUE, SQuAD)\n",
    "\n",
    "На этом этапе необходимо провести сравнение эффективности модели на трёх разных датасетах: CoQA, Russian SuperGLUE и SQuAD. Это поможет понять, как модель адаптируется к различным задачам и языковым доменам.\n",
    "\n",
    "## Шаги\n",
    "1. **Загрузка и предварительная обработка датасетов**:\n",
    "   - Используйте библиотеку `datasets` для загрузки CoQA, Russian SuperGLUE и SQuAD.\n",
    "   - Проверьте, что все датасеты имеют единообразный формат для обучения (например, вопрос-ответ).\n",
    "   - Преобразуйте данные с помощью токенизатора, чтобы они соответствовали входным требованиям модели.\n",
    "\n",
    "2. **Настройка модели для нескольких задач**:\n",
    "   - Если модель поддерживает мультимодальность или многозадачное обучение, настройте её для работы с несколькими датасетами.\n",
    "   - Обеспечьте поддержку языков, если используются как английский, так и русский языки (например, модель типа `mBERT`).\n",
    "\n",
    "3. **Запуск обучения и оценки**:\n",
    "   - Обучите модель отдельно на каждом датасете.\n",
    "   - Для каждого датасета сохраните метрики (например, `accuracy`, `F1-score`, `EM`, время обучения).\n",
    "\n",
    "4. **Сравнение результатов**:\n",
    "   - Постройте таблицу или графики, показывающие производительность модели на каждом датасете.\n",
    "   - Укажите различия в метриках, времени обучения и сложности задачи.\n",
    "\n",
    "5. **Выводы и рекомендации**:\n",
    "   - Проанализируйте, на каком датасете модель показала лучшие результаты.\n",
    "   - Сделайте выводы о том, как тип данных (язык, структура вопросов и ответов) влияет на производительность.\n",
    "\n",
    "## Пример кода\n",
    "```python\n",
    "from datasets import load_dataset\n",
    "\n",
    "# Загрузка датасетов\n",
    "datasets = {\n",
    "    \"coqa\": load_dataset(\"coqa\"),\n",
    "    \"russian_superglue\": load_dataset(\"russian_superglue\", \"russian_superglue_diagnostic\"),\n",
    "    \"squad\": load_dataset(\"squad\")\n",
    "}\n",
    "\n",
    "# Токенизация данных\n",
    "def preprocess_data(dataset, tokenizer):\n",
    "    return dataset.map(lambda x: tokenizer(x['question'], x['context'], truncation=True, padding=True), batched=True)\n",
    "\n",
    "tokenizer = <ВАШ_ТОКЕНИЗАТОР>\n",
    "preprocessed_datasets = {name: preprocess_data(ds, tokenizer) for name, ds in datasets.items()}\n",
    "\n",
    "\n",
    "results = {}\n",
    "for name, dataset in preprocessed_datasets.items():\n",
    "    # Настройка модели и обучения\n",
    "    model = <ВАША_МОДЕЛЬ>\n",
    "    trainer = <НАСТРОЙТЕ_TRAINER>\n",
    "    trainer.train()\n",
    "    results[name] = trainer.evaluate()\n",
    "\n",
    "# Построение графиков\n",
    "import matplotlib.pyplot as plt\n",
    "metrics = [\"accuracy\", \"f1\", \"exact_match\"]\n",
    "\n",
    "for metric in metrics:\n",
    "    values = [results[name][metric] for name in results]\n",
    "    plt.bar(results.keys(), values)\n",
    "    plt.title(f\"Сравнение {metric} между датасетами\")\n",
    "    plt.xlabel(\"Датасеты\")\n",
    "    plt.ylabel(metric)\n",
    "    plt.show()\n"
   ]
  },
  {
   "cell_type": "code",
   "execution_count": 14,
   "metadata": {
    "id": "q5AAhKH1DEJ6"
   },
   "outputs": [],
   "source": [
    "def prepare_russian_superglue(tokenizer):\n",
    "    # Загрузка датасета Russian SuperGLUE\n",
    "    russian_superglue = load_dataset(\"super_glue\", \"russian\")\n",
    "    # <YOUR CODE>\n",
    "    return train_dataset, eval_dataset\n",
    "\n",
    "\n",
    "def prepare_coqa(tokenizer):\n",
    "    # Загрузка датасета CoQA\n",
    "    coqa_dataset = load_dataset(\"coqa\")\n",
    "    # <YOUR CODE>\n",
    "    return train_dataset, eval_dataset\n",
    "\n",
    "\n",
    "def prepare_squad(tokenizer):\n",
    "    # Загрузка датасета SQuAD\n",
    "    squad_dataset = load_dataset(\"squad\")\n",
    "    tokenized_squad = squad_dataset.map(\n",
    "        lambda examples: tokenizer(\n",
    "            # <YOUR CODE>\n",
    "        ),\n",
    "        batched=True\n",
    "    )\n",
    "    tokenized_squad.set_format(\"torch\")\n",
    "    return tokenized_squad[\"train\"], tokenized_squad[\"validation\"]\n",
    "\n",
    "\n",
    "# train_dataset, eval_dataset = prepare_russian_superglue(tokenizer)\n",
    "# train_and_evaluate(model, tokenizer, train_dataset, eval_dataset)\n",
    "\n",
    "\n",
    "# train_dataset, eval_dataset = prepare_coqa(tokenizer)\n",
    "# train_and_evaluate(model, tokenizer, train_dataset, eval_dataset)\n",
    "\n",
    "\n",
    "# train_dataset, eval_dataset = prepare_squad(tokenizer)\n",
    "# train_and_evaluate(model, tokenizer, train_dataset, eval_dataset)"
   ]
  },
  {
   "cell_type": "code",
   "execution_count": 15,
   "metadata": {},
   "outputs": [
    {
     "name": "stdout",
     "output_type": "stream",
     "text": [
      "PYTHONPATH=. python src/train_qa.py config/config_qa.yml\n",
      "/home/toor/miniconda3/lib/python3.11/site-packages/pydantic/_internal/_fields.py:132: UserWarning: Field \"model_kwargs\" in Config has conflict with protected namespace \"model_\".\n",
      "\n",
      "You may be able to resolve this warning by setting `model_config['protected_namespaces'] = ()`.\n",
      "  warnings.warn(\n",
      "Map: 100%|█████████████████████| 108647/108647 [00:17<00:00, 6292.13 examples/s]\n",
      "Map: 100%|█████████████████████████| 7983/7983 [00:01<00:00, 6731.43 examples/s]\n",
      "Map: 100%|█████████████████████████| 7983/7983 [00:01<00:00, 4107.95 examples/s]\n",
      "Some weights of DistilBertForQuestionAnswering were not initialized from the model checkpoint at distilbert-base-uncased and are newly initialized: ['qa_outputs.bias', 'qa_outputs.weight']\n",
      "You should probably TRAIN this model on a down-stream task to be able to use it for predictions and inference.\n",
      "[2025-01-10 02:50:41,664] [INFO] [real_accelerator.py:222:get_accelerator] Setting ds_accelerator to cuda (auto detect)\n",
      "2025-01-10 02:50:42,033 - clearml.Task - WARNING - Parameters must be of builtin type (Transformers/accelerator_config[AcceleratorConfig])\n",
      "{'loss': 4.6942, 'grad_norm': 3.428966522216797, 'learning_rate': 0.00010000000000000042, 'epoch': 0.57}\n",
      "{'loss': 3.8976, 'grad_norm': 3.559194326400757, 'learning_rate': 0.00010000000000000005, 'epoch': 1.15}\n",
      "{'loss': 3.6442, 'grad_norm': 3.9437947273254395, 'learning_rate': 0.00010000000000001558, 'epoch': 1.72}\n",
      "{'loss': 3.5011, 'grad_norm': 3.685129404067993, 'learning_rate': 9.999999999999883e-05, 'epoch': 2.29}\n",
      "{'loss': 3.4115, 'grad_norm': 3.5390923023223877, 'learning_rate': 0.00010000000000004677, 'epoch': 2.86}\n",
      "{'loss': 3.2932, 'grad_norm': 3.7443132400512695, 'learning_rate': 9.999999999996534e-05, 'epoch': 3.44}\n",
      "{'train_runtime': 1330.1424, 'train_samples_per_second': 335.868, 'train_steps_per_second': 2.625, 'train_loss': 3.6734675072039664, 'epoch': 4.0}\n",
      "100%|███████████████████████████████████████| 3492/3492 [22:05<00:00,  2.63it/s]\n",
      "100%|███████████████████████████████████████████| 65/65 [00:13<00:00,  4.76it/s]\n",
      "Post-processing 7983 example predictions split into 8193 features.\n",
      "100%|██████████████████████████████████████| 7983/7983 [00:09<00:00, 828.32it/s]\n",
      "Some weights of DistilBertForQuestionAnswering were not initialized from the model checkpoint at distilbert-base-uncased and are newly initialized: ['qa_outputs.bias', 'qa_outputs.weight']\n",
      "You should probably TRAIN this model on a down-stream task to be able to use it for predictions and inference.\n",
      "2025-01-10 03:13:21,173 - clearml.Task - WARNING - Parameters must be of builtin type (Transformers_2/accelerator_config[AcceleratorConfig])\n",
      "{'loss': 2.6141, 'grad_norm': 3.4807207584381104, 'learning_rate': 0.00010000000000000042, 'epoch': 0.73}\n",
      "{'loss': 1.6407, 'grad_norm': 2.980804443359375, 'learning_rate': 0.00010000000000000005, 'epoch': 1.46}\n",
      "{'loss': 1.4248, 'grad_norm': 2.9878172874450684, 'learning_rate': 0.00010000000000001558, 'epoch': 2.19}\n",
      "{'loss': 1.3024, 'grad_norm': 3.1874403953552246, 'learning_rate': 9.999999999999883e-05, 'epoch': 2.92}\n",
      "{'loss': 1.1902, 'grad_norm': 3.38844895362854, 'learning_rate': 0.00010000000000004677, 'epoch': 3.64}\n",
      "{'train_runtime': 1041.6328, 'train_samples_per_second': 336.833, 'train_steps_per_second': 2.634, 'train_loss': 1.5929546523024667, 'epoch': 4.0}\n",
      "100%|███████████████████████████████████████| 2744/2744 [17:17<00:00,  2.65it/s]\n",
      "100%|███████████████████████████████████████████| 84/84 [00:17<00:00,  4.75it/s]\n",
      "Post-processing 10570 example predictions split into 10626 features.\n",
      "100%|████████████████████████████████████| 10570/10570 [00:10<00:00, 971.74it/s]\n"
     ]
    }
   ],
   "source": [
    "!make train_qa"
   ]
  },
  {
   "cell_type": "code",
   "execution_count": 16,
   "metadata": {},
   "outputs": [
    {
     "data": {
      "text/html": [
       "<div>\n",
       "<style scoped>\n",
       "    .dataframe tbody tr th:only-of-type {\n",
       "        vertical-align: middle;\n",
       "    }\n",
       "\n",
       "    .dataframe tbody tr th {\n",
       "        vertical-align: top;\n",
       "    }\n",
       "\n",
       "    .dataframe thead th {\n",
       "        text-align: right;\n",
       "    }\n",
       "</style>\n",
       "<table border=\"1\" class=\"dataframe\">\n",
       "  <thead>\n",
       "    <tr style=\"text-align: right;\">\n",
       "      <th></th>\n",
       "      <th>name</th>\n",
       "      <th>metric</th>\n",
       "      <th>value</th>\n",
       "      <th>training_time</th>\n",
       "    </tr>\n",
       "  </thead>\n",
       "  <tbody>\n",
       "    <tr>\n",
       "      <th>0</th>\n",
       "      <td>coqa</td>\n",
       "      <td>exact_match</td>\n",
       "      <td>10.797946</td>\n",
       "      <td>1359.417279</td>\n",
       "    </tr>\n",
       "    <tr>\n",
       "      <th>1</th>\n",
       "      <td>coqa</td>\n",
       "      <td>f1</td>\n",
       "      <td>23.274038</td>\n",
       "      <td>1359.417279</td>\n",
       "    </tr>\n",
       "    <tr>\n",
       "      <th>2</th>\n",
       "      <td>squad</td>\n",
       "      <td>exact_match</td>\n",
       "      <td>70.227058</td>\n",
       "      <td>1076.733126</td>\n",
       "    </tr>\n",
       "    <tr>\n",
       "      <th>3</th>\n",
       "      <td>squad</td>\n",
       "      <td>f1</td>\n",
       "      <td>80.466920</td>\n",
       "      <td>1076.733126</td>\n",
       "    </tr>\n",
       "  </tbody>\n",
       "</table>\n",
       "</div>"
      ],
      "text/plain": [
       "    name       metric      value  training_time\n",
       "0   coqa  exact_match  10.797946    1359.417279\n",
       "1   coqa           f1  23.274038    1359.417279\n",
       "2  squad  exact_match  70.227058    1076.733126\n",
       "3  squad           f1  80.466920    1076.733126"
      ]
     },
     "execution_count": 16,
     "metadata": {},
     "output_type": "execute_result"
    }
   ],
   "source": [
    "dataset_results = pd.read_csv('result/results_qa.csv')\n",
    "dataset_results"
   ]
  },
  {
   "cell_type": "code",
   "execution_count": 17,
   "metadata": {},
   "outputs": [
    {
     "data": {
      "image/png": "[encoded data removed]",
      "text/plain": [
       "<Figure size 640x480 with 1 Axes>"
      ]
     },
     "metadata": {},
     "output_type": "display_data"
    },
    {
     "data": {
      "image/png": "[encoded data removed]",
      "text/plain": [
       "<Figure size 640x480 with 1 Axes>"
      ]
     },
     "metadata": {},
     "output_type": "display_data"
    }
   ],
   "source": [
    "# Построение графиков\n",
    "import matplotlib.pyplot as plt\n",
    "metrics = [\"f1\", \"exact_match\"]\n",
    "\n",
    "for metric in metrics:\n",
    "    subset = dataset_results[dataset_results['metric'] == metric]\n",
    "    plt.bar(subset['name'], subset['value'], label=metric)\n",
    "    plt.title(f\"Сравнение {metric} между датасетами\")\n",
    "    plt.xlabel(\"Датасеты\")\n",
    "    plt.ylabel(metric)\n",
    "    plt.show()"
   ]
  },
  {
   "cell_type": "markdown",
   "metadata": {},
   "source": [
    "## Выводы по датасетам\n",
    "\n",
    "В эксперименте использовались 2 датасета: coqa и squad. Использовалась модель distilbert-base-uncased. Качество на squad существенно выше. Возможно для данной модели данные coqa слишком сложны и сети не хватает обобщающей способности. В остальном процесс обучения был абсолютно идентичный. Формат coqa был приведен к формату squad"
   ]
  },
  {
   "cell_type": "markdown",
   "metadata": {
    "id": "3271de58"
   },
   "source": [
    "# Этап: Квантование и использование PEFT (Parameter-Efficient Fine-Tuning)\n",
    "\n",
    "На этом этапе необходимо применить квантизацию модели для уменьшения её размера, а также использовать методы PEFT (например, LoRA, Prompt-Tuning, Prefix-Tuning) для дообучения модели с минимальными затратами ресурсов.\n",
    "\n",
    "## Шаги\n",
    "1. **Квантование модели**:\n",
    "   - Используйте библиотеку `torch.quantization` или другие инструменты для пост-тренировочного квантования модели.\n",
    "   - Проверьте, что модель корректно работает в квантованном формате (например, `int8`).\n",
    "   - Измерьте влияние квантования на производительность модели и её точность.\n",
    "\n",
    "2. **Настройка метода PEFT**:\n",
    "   - Выберите один из методов PEFT (например, LoRA, Prompt-Tuning или Prefix-Tuning).\n",
    "   - Настройте модель для работы с адаптерами, добавив минимальное количество параметров для дообучения.\n",
    "\n",
    "3. **Комбинирование квантования и PEFT**:\n",
    "   - После квантования добавьте адаптеры и обучите модель с использованием метода PEFT.\n",
    "   - Убедитесь, что квантование не препятствует корректной работе адаптеров.\n",
    "\n",
    "4. **Оценка и сравнение**:\n",
    "   - Оцените производительность модели до и после квантования, а также после применения PEFT.\n",
    "   - Сравните метрики (точность, скорость обучения, использование памяти) между вариантами.\n",
    "\n",
    "5. **Выводы**:\n",
    "   - Сделайте выводы о том, как квантование и PEFT влияют на производительность модели.\n",
    "   - Определите, какой подход позволяет достичь лучшего компромисса между производительностью и использованием ресурсов.\n",
    "\n",
    "## Пример кода\n",
    "```python\n",
    "import torch\n",
    "from transformers import AutoModelForSequenceClassification\n",
    "\n",
    "# Загрузка модели\n",
    "model = AutoModelForSequenceClassification.from_pretrained(\"bert-base-uncased\")\n",
    "model.eval()\n",
    "\n",
    "# Пост-тренировочное квантование\n",
    "quantized_model = torch.quantization.quantize_dynamic(\n",
    "    model,  # Модель\n",
    "    {torch.nn.Linear},  # Слои для квантования\n",
    "    dtype=torch.qint8  # Формат квантования\n",
    ")\n",
    "\n",
    "# Проверка размера и скорости работы модели\n",
    "original_size = sum(p.numel() for p in model.parameters())\n",
    "quantized_size = sum(p.numel() for p in quantized_model.parameters())\n",
    "print(f\"Размер оригинальной модели: {original_size}, Квантованной модели: {quantized_size}\")\n",
    "\n",
    "# Добавление LoRA-адаптера после квантования\n",
    "from transformers.adapters import LoRAConfig\n",
    "\n",
    "config = LoRAConfig(r=16, alpha=32)\n",
    "quantized_model.add_adapter(\"lora_adapter\", config=config)\n",
    "quantized_model.train_adapter(\"lora_adapter\")\n",
    "\n",
    "# Обучение модели с адаптером\n",
    "from transformers import TrainingArguments, Trainer\n",
    "\n",
    "training_args = TrainingArguments(\n",
    "    output_dir=\"./results\",\n",
    "    learning_rate=5e-5,\n",
    "    per_device_train_batch_size=16,\n",
    "    num_train_epochs=3,\n",
    "    logging_dir=\"./logs\",\n",
    "    evaluation_strategy=\"epoch\"\n",
    ")\n",
    "\n",
    "trainer = Trainer(\n",
    "    model=quantized_model,\n",
    "    args=training_args,\n",
    "    train_dataset=<TRAIN_DATASET>,\n",
    "    eval_dataset=<EVAL_DATASET>\n",
    ")\n",
    "\n",
    "trainer.train()\n",
    "metrics = trainer.evaluate()\n",
    "print(f\"Результаты модели с LoRA после квантования: {metrics}\")\n",
    "\n"
   ]
  },
  {
   "cell_type": "code",
   "execution_count": 18,
   "metadata": {
    "id": "YZHgtbOvJkaO"
   },
   "outputs": [
    {
     "name": "stdout",
     "output_type": "stream",
     "text": [
      "Обучение реализовано в следующей ячейке\n"
     ]
    }
   ],
   "source": [
    "'''\n",
    "import torch\n",
    "from transformers import AutoModelForSequenceClassification, AutoTokenizer\n",
    "from transformers.adapters import LoRAConfig, AdapterTrainer, TrainingArguments\n",
    "from datasets import load_dataset\n",
    "\n",
    "# Шаг 1: Загрузка модели и токенизатора\n",
    "model_name = \"bert-base-uncased\"\n",
    "tokenizer = AutoTokenizer.from_pretrained(model_name)\n",
    "model = AutoModelForSequenceClassification.from_pretrained(model_name)\n",
    "model.eval()  # Переводим модель в режим инференса для квантования\n",
    "\n",
    "# Шаг 2: Пост-тренировочное квантование\n",
    "quantized_model = torch.quantization.quantize_dynamic(\n",
    "    model,  # Модель\n",
    "    {torch.nn.Linear},  # Слои для квантования\n",
    "    dtype=torch.qint8  # Формат квантования\n",
    ")\n",
    "\n",
    "# Проверка размеров моделей\n",
    "original_size = sum(p.numel() for p in model.parameters())\n",
    "quantized_size = sum(p.numel() for p in quantized_model.parameters())\n",
    "print(f\"Размер оригинальной модели: {original_size}, квантованной модели: {quantized_size}\")\n",
    "\n",
    "# Шаг 3: Добавление LoRA-адаптера\n",
    "lora_config = LoRAConfig(r=16, alpha=32)\n",
    "quantized_model.add_adapter(\"lora_adapter\", config=lora_config)\n",
    "quantized_model.train_adapter(\"lora_adapter\")\n",
    "\n",
    "# Шаг 4: Загрузка датасета\n",
    "dataset = load_dataset(\"glue\", \"sst2\")\n",
    "train_dataset = dataset[\"train\"].map(\n",
    "    lambda e: tokenizer(e['sentence'], truncation=True, padding=\"max_length\"), batched=True\n",
    ")\n",
    "train_dataset.set_format(type=\"torch\", columns=[\"input_ids\", \"attention_mask\", \"label\"])\n",
    "\n",
    "eval_dataset = dataset[\"validation\"].map(\n",
    "    lambda e: tokenizer(e['sentence'], truncation=True, padding=\"max_length\"), batched=True\n",
    ")\n",
    "eval_dataset.set_format(type=\"torch\", columns=[\"input_ids\", \"attention_mask\", \"label\"])\n",
    "\n",
    "# Шаг 5: Настройка аргументов обучения\n",
    "training_args = TrainingArguments(\n",
    "    output_dir=\"./results\",\n",
    "    evaluation_strategy=\"epoch\",\n",
    "    learning_rate=5e-5,\n",
    "    per_device_train_batch_size=16,\n",
    "    num_train_epochs=3,\n",
    "    weight_decay=0.01,\n",
    "    logging_dir=\"./logs\",\n",
    "    load_best_model_at_end=True,\n",
    "    fp16=True  # Используем смешанную точность\n",
    ")\n",
    "\n",
    "# Шаг 6: Обучение модели\n",
    "trainer = AdapterTrainer(\n",
    "    model=quantized_model,\n",
    "    args=training_args,\n",
    "    train_dataset=train_dataset,\n",
    "    eval_dataset=eval_dataset,\n",
    "    tokenizer=tokenizer\n",
    ")\n",
    "\n",
    "trainer.train()\n",
    "\n",
    "# Шаг 7: Оценка модели\n",
    "metrics = trainer.evaluate()\n",
    "print(f\"Результаты модели с LoRA после квантования: {metrics}\")\n",
    "'''\n",
    "print('Обучение реализовано в следующей ячейке')"
   ]
  },
  {
   "cell_type": "code",
   "execution_count": 19,
   "metadata": {},
   "outputs": [
    {
     "name": "stdout",
     "output_type": "stream",
     "text": [
      "PYTHONPATH=. python src/train_qlora.py config/config_qlora.yml\n",
      "/home/toor/miniconda3/lib/python3.11/site-packages/pydantic/_internal/_fields.py:132: UserWarning: Field \"model_kwargs\" in Config has conflict with protected namespace \"model_\".\n",
      "\n",
      "You may be able to resolve this warning by setting `model_config['protected_namespaces'] = ()`.\n",
      "  warnings.warn(\n",
      "`low_cpu_mem_usage` was None, now set to True since model is quantized.\n",
      "Some weights of BertForSequenceClassification were not initialized from the model checkpoint at bert-base-uncased and are newly initialized: ['classifier.bias', 'classifier.weight']\n",
      "You should probably TRAIN this model on a down-stream task to be able to use it for predictions and inference.\n",
      "[2025-01-10 03:31:43,837] [INFO] [real_accelerator.py:222:get_accelerator] Setting ds_accelerator to cuda (auto detect)\n",
      "2025-01-10 03:31:44,224 - clearml.Task - WARNING - Parameters must be of builtin type (Transformers/accelerator_config[AcceleratorConfig])\n",
      "{'eval_loss': 0.8414710164070129, 'eval_accuracy': 0.3087248322147651, 'eval_runtime': 3.1047, 'eval_samples_per_second': 335.941, 'eval_steps_per_second': 1.61, 'epoch': 0.9411764705882353}\n",
      "{'eval_loss': 0.7697072625160217, 'eval_accuracy': 0.3144774688398849, 'eval_runtime': 3.1121, 'eval_samples_per_second': 335.145, 'eval_steps_per_second': 1.607, 'epoch': 2.0}\n",
      "{'eval_loss': 0.7177368998527527, 'eval_accuracy': 0.3566634707574305, 'eval_runtime': 3.1112, 'eval_samples_per_second': 335.238, 'eval_steps_per_second': 1.607, 'epoch': 2.9411764705882355}\n",
      "{'eval_loss': 0.6945260167121887, 'eval_accuracy': 0.46883988494726747, 'eval_runtime': 3.1117, 'eval_samples_per_second': 335.184, 'eval_steps_per_second': 1.607, 'epoch': 4.0}\n",
      "{'eval_loss': 0.6840918660163879, 'eval_accuracy': 0.5973154362416108, 'eval_runtime': 3.1087, 'eval_samples_per_second': 335.51, 'eval_steps_per_second': 1.608, 'epoch': 4.9411764705882355}\n",
      "{'eval_loss': 0.6642628908157349, 'eval_accuracy': 0.6883988494726749, 'eval_runtime': 3.1123, 'eval_samples_per_second': 335.126, 'eval_steps_per_second': 1.607, 'epoch': 6.0}\n",
      "{'eval_loss': 0.6412354707717896, 'eval_accuracy': 0.6912751677852349, 'eval_runtime': 3.1109, 'eval_samples_per_second': 335.273, 'eval_steps_per_second': 1.607, 'epoch': 6.9411764705882355}\n",
      "{'eval_loss': 0.6280879378318787, 'eval_accuracy': 0.6912751677852349, 'eval_runtime': 3.112, 'eval_samples_per_second': 335.155, 'eval_steps_per_second': 1.607, 'epoch': 7.529411764705882}\n",
      "{'train_runtime': 728.1365, 'train_samples_per_second': 93.949, 'train_steps_per_second': 0.088, 'train_loss': 0.7234275341033936, 'epoch': 7.529411764705882}\n"
     ]
    },
    {
     "name": "stderr",
     "output_type": "stream",
     "text": [
      "Retrying (Retry(total=237, connect=237, read=240, redirect=240, status=240)) after connection broken by 'NameResolutionError(\"<urllib3.connection.HTTPSConnection object at 0x75cae804ab90>: Failed to resolve 'api.clear.ml' ([Errno -3] Temporary failure in name resolution)\")': /v2.23/tasks.get_all\n",
      "Retrying (Retry(total=236, connect=236, read=240, redirect=240, status=240)) after connection broken by 'NameResolutionError(\"<urllib3.connection.HTTPSConnection object at 0x75caf1e37b10>: Failed to resolve 'api.clear.ml' ([Errno -3] Temporary failure in name resolution)\")': /v2.23/tasks.get_all\n",
      "Retrying (Retry(total=237, connect=237, read=240, redirect=240, status=240)) after connection broken by 'NameResolutionError(\"<urllib3.connection.HTTPSConnection object at 0x75caec81e590>: Failed to resolve 'api.clear.ml' ([Errno -3] Temporary failure in name resolution)\")': /v2.23/tasks.get_all\n",
      "Retrying (Retry(total=2, connect=2, read=5, redirect=5, status=None)) after connection broken by 'NameResolutionError(\"<urllib3.connection.HTTPSConnection object at 0x75caf1e34c90>: Failed to resolve 'files.clear.ml' ([Errno -3] Temporary failure in name resolution)\")': /\n",
      "Retrying (Retry(total=1, connect=1, read=5, redirect=5, status=None)) after connection broken by 'NameResolutionError(\"<urllib3.connection.HTTPSConnection object at 0x75cae58dc910>: Failed to resolve 'files.clear.ml' ([Errno -3] Temporary failure in name resolution)\")': /\n",
      "Retrying (Retry(total=236, connect=236, read=240, redirect=240, status=240)) after connection broken by 'NameResolutionError(\"<urllib3.connection.HTTPSConnection object at 0x75caec81fd50>: Failed to resolve 'api.clear.ml' ([Errno -3] Temporary failure in name resolution)\")': /v2.23/tasks.get_all\n",
      "Retrying (Retry(total=0, connect=0, read=5, redirect=5, status=None)) after connection broken by 'NameResolutionError(\"<urllib3.connection.HTTPSConnection object at 0x75caf7401250>: Failed to resolve 'files.clear.ml' ([Errno -3] Temporary failure in name resolution)\")': /\n"
     ]
    },
    {
     "name": "stdout",
     "output_type": "stream",
     "text": [
      "2025-01-10 07:20:52,015 - clearml.storage - INFO - Uploading: 0.31MB to /home/toor/study/mfti bigdata/mfti_llm_hw01/hw_llm.ipynb\n"
     ]
    },
    {
     "name": "stderr",
     "output_type": "stream",
     "text": [
      "████████████████████████████████▉ 100% | 0.31/0.31 MB [00:00<00:00,  2.25s/MB]: \n"
     ]
    }
   ],
   "source": [
    "!make train_qlora"
   ]
  },
  {
   "cell_type": "code",
   "execution_count": 26,
   "metadata": {},
   "outputs": [
    {
     "name": "stdout",
     "output_type": "stream",
     "text": [
      "Результаты модели с LoRA после квантования: acc 0.6912751677852349, training_time 729.4352178573608\n"
     ]
    }
   ],
   "source": [
    "dataset_results = pd.read_csv('result/results_qlora.csv')\n",
    "print(f\"Результаты модели с LoRA после квантования: acc {dataset_results.accuracy[0]}, training_time {dataset_results.training_time[0]}\")"
   ]
  },
  {
   "cell_type": "markdown",
   "metadata": {
    "id": "T04BbFf2Z4b5"
   },
   "source": [
    "# Финальный этап: Сводная таблица результатов (10% оценки)\n",
    "\n",
    "На этом этапе мы подводим итоги всех проведённых экспериментов. Цель — создать сводную таблицу, которая наглядно показывает производительность моделей с различными настройками (квантование, адаптеры, форматы данных и т.д.).\n",
    "\n",
    "## Шаги\n",
    "\n",
    "1. **Сбор всех метрик**:\n",
    "   - Соберите результаты из всех этапов, включая:\n",
    "     - Тип модели (оригинальная, квантованная, с адаптером).\n",
    "     - Формат данных (FP32, FP16, Int8).\n",
    "     - Использованный подход (LoRA, Prompt-Tuning, Prefix-Tuning).\n",
    "     - Метрики точности (например, Accuracy, F1-Score, Exact Match).\n",
    "     - Метрики производительности (время обучения, время инференса, использование памяти).\n",
    "\n",
    "2. **Создание таблицы**:\n",
    "   - Скомпилируйте все результаты в одну таблицу, где строки будут представлять комбинации настроек, а столбцы — метрики.\n",
    "   - Пример структуры таблицы:\n",
    "     ```\n",
    "     +-------------------+-----------+--------+------------+--------------+-----------+----------+\n",
    "     | Тип модели        | Формат    | Метод  | Accuracy   | F1-Score     | Время     | Память   |\n",
    "     +-------------------+-----------+--------+------------+--------------+-----------+----------+\n",
    "     | Оригинальная      | FP32      | Нет    | 92.5%      | 90.1%        | 50 сек    | 2.3 ГБ   |\n",
    "     | Квантованная      | Int8      | LoRA   | 90.3%      | 88.4%        | 30 сек    | 1.2 ГБ   |\n",
    "     | Квантованная+PEFT | FP16      | Prompt | 89.8%      | 87.6%        | 35 сек    | 1.5 ГБ   |\n",
    "     +-------------------+-----------+--------+------------+--------------+-----------+----------+\n",
    "     ```\n",
    "\n",
    "3. **Построение графиков**:\n",
    "   - Постройте графики для визуального сравнения:\n",
    "     - Точность (Accuracy, F1-Score) по различным форматам данных.\n",
    "     - Время обучения и инференса для каждой модели и метода.\n",
    "     - Использование памяти.\n",
    "\n",
    "4. **Выводы**:\n",
    "   - На основе таблицы и графиков сделайте выводы:\n",
    "     - Какой подход наиболее эффективен по соотношению производительности и ресурсов.\n",
    "     - Влияние квантования и PEFT на точность и скорость работы модели.\n",
    "     - Рекомендации для использования модели в реальных задачах."
   ]
  },
  {
   "cell_type": "code",
   "execution_count": 31,
   "metadata": {
    "id": "DzHe3zVxZ473"
   },
   "outputs": [
    {
     "name": "stdout",
     "output_type": "stream",
     "text": [
      "Сводная таблица результатов:\n",
      "           Тип модели    Формат       Метод  Accuracy  Время (с)\n",
      "0        Оригинальная      FP32  freeze 80%      77.0         45\n",
      "1        Оригинальная  BFLOAT16  freeze 80%      73.9         23\n",
      "2        Оригинальная      FP32  freeze 50%      80.1         64\n",
      "3        Оригинальная  BFLOAT16  freeze 50%      77.3         28\n",
      "4        Оригинальная      FP32  freeze 20%      81.7         75\n",
      "5        Оригинальная  BFLOAT16  freeze 20%      78.3         34\n",
      "6        Оригинальная      FP32  not freeze      81.5         86\n",
      "7        Оригинальная  BFLOAT16  not freeze      78.8         46\n",
      "8             Адаптер      FP32        LoRA      69.1         31\n",
      "9             Адаптер  BFLOAT16        LoRA      69.1         31\n",
      "10  Квантованная+PEFT  BFLOAT16       QLoRA      69.1        729\n"
     ]
    },
    {
     "data": {
      "image/png": "[encoded data removed]",
      "text/plain": [
       "<Figure size 1000x500 with 1 Axes>"
      ]
     },
     "metadata": {},
     "output_type": "display_data"
    },
    {
     "data": {
      "image/png": "[encoded data removed]",
      "text/plain": [
       "<Figure size 1000x500 with 1 Axes>"
      ]
     },
     "metadata": {},
     "output_type": "display_data"
    }
   ],
   "source": [
    "import pandas as pd\n",
    "import matplotlib.pyplot as plt\n",
    "\n",
    "# Сводные результаты (пример данных)\n",
    "data = [\n",
    "    # Заморозка слоев\n",
    "    {\"Тип модели\": \"Оригинальная\", \"Формат\": \"FP32\", \"Метод\": \"freeze 80%\", \"Accuracy\": 77.0, \"Время (с)\": 45},\n",
    "    {\"Тип модели\": \"Оригинальная\", \"Формат\": \"BFLOAT16\", \"Метод\": \"freeze 80%\", \"Accuracy\": 73.9, \"Время (с)\": 23},    \n",
    "    {\"Тип модели\": \"Оригинальная\", \"Формат\": \"FP32\", \"Метод\": \"freeze 50%\", \"Accuracy\": 80.1, \"Время (с)\": 64},\n",
    "    {\"Тип модели\": \"Оригинальная\", \"Формат\": \"BFLOAT16\", \"Метод\": \"freeze 50%\", \"Accuracy\": 77.3, \"Время (с)\": 28},    \n",
    "    {\"Тип модели\": \"Оригинальная\", \"Формат\": \"FP32\", \"Метод\": \"freeze 20%\", \"Accuracy\": 81.7, \"Время (с)\": 75},\n",
    "    {\"Тип модели\": \"Оригинальная\", \"Формат\": \"BFLOAT16\", \"Метод\": \"freeze 20%\", \"Accuracy\": 78.3, \"Время (с)\": 34},    \n",
    "    {\"Тип модели\": \"Оригинальная\", \"Формат\": \"FP32\", \"Метод\": \"not freeze\", \"Accuracy\": 81.5, \"Время (с)\": 86},\n",
    "    {\"Тип модели\": \"Оригинальная\", \"Формат\": \"BFLOAT16\", \"Метод\": \"not freeze\", \"Accuracy\": 78.8, \"Время (с)\": 46},    \n",
    "\n",
    "    # Адаптеры\n",
    "    {\"Тип модели\": \"Адаптер\", \"Формат\": \"FP32\", \"Метод\": \"LoRA\", \"Accuracy\": 69.1, \"Время (с)\": 31},\n",
    "    {\"Тип модели\": \"Адаптер\", \"Формат\": \"BFLOAT16\", \"Метод\": \"LoRA\", \"Accuracy\": 69.1, \"Время (с)\": 31},    \n",
    "    {\"Тип модели\": \"Квантованная+PEFT\", \"Формат\": \"BFLOAT16\", \"Метод\": \"QLoRA\", \"Accuracy\": 69.1, \"Время (с)\": 729},\n",
    "]\n",
    "\n",
    "# Создание DataFrame\n",
    "results_df = pd.DataFrame(data)\n",
    "\n",
    "# Печать таблицы\n",
    "print(\"Сводная таблица результатов:\")\n",
    "print(results_df)\n",
    "\n",
    "# Построение графиков\n",
    "# График точности\n",
    "results_df.plot(kind=\"bar\", x=\"Тип модели\", y=[\"Accuracy\"], figsize=(10, 5))\n",
    "plt.title(\"Точность моделей\")\n",
    "plt.ylabel(\"Метрики (%)\")\n",
    "plt.xlabel(\"Тип модели\")\n",
    "plt.legend(loc=\"lower right\")\n",
    "plt.show()\n",
    "\n",
    "# График времени\n",
    "results_df.plot(kind=\"bar\", x=\"Тип модели\", y=\"Время (с)\", color=\"orange\", figsize=(10, 5))\n",
    "plt.title(\"Время обучения и инференса\")\n",
    "plt.ylabel(\"Время (с)\")\n",
    "plt.xlabel(\"Тип модели\")\n",
    "plt.show()"
   ]
  },
  {
   "cell_type": "markdown",
   "metadata": {},
   "source": [
    "## Выводы\n",
    "\n",
    "* В данном случае (обучения берт на NVIDIA3090), если модель будет использоваться на сервере с аналогичной видеокартой лучше всего проводить обучение с полной разморозкой слоев в FP32, так мы достигаем максимального качества\n",
    "\n",
    "* Если нужно инферить одну модель, использующуюся под разные задачи, имеет смысл обучить под каждую задачу свой адаптер и подавать его вместе с запросом. Сами адаптеры получились достаточно компактными 1.2МБ.\n",
    "\n",
    "* В сторону квантованной модели имеет смысл смотреть, если карточка поддерживает операции с INT8\n",
    "\n",
    "* Качество при использовании адаптеров существенно просело, но возможно надо брать более объемную модель, чтобы адаптер показал себя лучше. Разницы в качестве между LoRA и QLoRa на данной задаче не наблюдается, если выбирать только между ними, то в сторону квантованной модели имеет смысл смотреть, если карточка поддерживает операции с INT8, иначе лучше выбирать обычную лору"
   ]
  },
  {
   "cell_type": "code",
   "execution_count": null,
   "metadata": {},
   "outputs": [],
   "source": []
  },
  {
   "cell_type": "code",
   "execution_count": null,
   "metadata": {},
   "outputs": [],
   "source": []
  }
 ],
 "metadata": {
  "colab": {
   "provenance": []
  },
  "kernelspec": {
   "display_name": "Python 3 (ipykernel)",
   "language": "python",
   "name": "python3"
  },
  "language_info": {
   "codemirror_mode": {
    "name": "ipython",
    "version": 3
   },
   "file_extension": ".py",
   "mimetype": "text/x-python",
   "name": "python",
   "nbconvert_exporter": "python",
   "pygments_lexer": "ipython3",
   "version": "3.11.8"
  }
 },
 "nbformat": 4,
 "nbformat_minor": 4
}
